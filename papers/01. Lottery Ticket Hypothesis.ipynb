{
 "cells": [
  {
   "cell_type": "markdown",
   "source": [
    "### The Lotter Ticket Hypothesis: Finding Sparse, Trainable Neural Networks\n",
    "\n",
    "By Jonathan Frankle and Micheal Carbin.\n",
    "\n",
    "#### About\n",
    " This paper is about pruning in neural network. Pruning is the process of reducing the\n",
    " parameter counts of trained neural networks. In this paper, they demonstrate the\n",
    " existence of smaller subnetworks that when trained from the start learn at least as fast\n",
    "  their larger counterparts while reaching similar test accuracy.\n",
    "\n",
    "##### The Lottery Ticket Hypothesis\n",
    "\n",
    "``A randomly-initialized, dense neural network contains a subnetwork that is \n",
    "initialized such that when trained in isolation it can match the test accuracy of the original network after\n",
    " training for at most the same number of iterations. ``\n",
    "\n",
    "\n",
    " ### Experiment\n",
    "The authors demonstrate an experiment that tests the conjecture.\n",
    "\n",
    " 1. Randomly initialize a neural network.\n",
    " 2. Train the network for $j$ iterations, arriving at parameters  $\\theta_{j}$.\n",
    " 3. Prune $p\\%$ of the parameters in $\\theta_{j}$, creating a mask $m$.\n",
    " 4. Reset the remaining parameters to their values in $\\theta_{0}$, creating the winning ticket\n",
    " $f(x; m \\bigodot \\theta )$\n",
    " 5. Train the prunes, untrained network. Observe convergence and accuracy.\n",
    "\n",
    "\n",
    "Idea is to find spars, trainable neural networks. Prune synapses and neurons.\n",
    "\n",
    " #### Pruning\n",
    " There are different types of pruning. In the literature, it could be inferred as\n",
    " <i>one-shot</i> in which the network is trained once, $ p\\% $ of weights are pruned,\n",
    "  and the surviving weights are reset.\n",
    "\n",
    " However, in the paper, they focus on <i>iterative pruning</i>, which\n",
    " repreatedly trains, prunes, and resets the network over $n$ rounds;\n",
    " each round prunes, and resets the network over $n$ rounds; each round prunes\n",
    " $p^\\frac{1}{n} \\%$ of the weights that survive the previous round.\n",
    "\n",
    " <strong>Advantages of <i>iterative</i> pruning</strong>\n",
    "\n",
    " Authors of the paper prove that <i>iterative pruning</i> finds winning\n",
    " tickets that match the accuracy of the original network at smaller sizes than\n",
    " does <i>one-shot</i> pruning."
   ],
   "metadata": {
    "collapsed": false,
    "pycharm": {
     "name": "#%% md\n"
    }
   }
  }
 ],
 "metadata": {
  "kernelspec": {
   "display_name": "Python 3",
   "language": "python",
   "name": "python3"
  },
  "language_info": {
   "codemirror_mode": {
    "name": "ipython",
    "version": 2
   },
   "file_extension": ".py",
   "mimetype": "text/x-python",
   "name": "python",
   "nbconvert_exporter": "python",
   "pygments_lexer": "ipython2",
   "version": "2.7.6"
  }
 },
 "nbformat": 4,
 "nbformat_minor": 0
}