{
 "cells": [
  {
   "cell_type": "code",
   "execution_count": 1,
   "metadata": {},
   "outputs": [
    {
     "data": {
      "text/plain": [
       "(569, 30)"
      ]
     },
     "execution_count": 1,
     "metadata": {},
     "output_type": "execute_result"
    }
   ],
   "source": [
    "import numpy as np\n",
    "from sklearn.datasets import load_breast_cancer\n",
    "\n",
    "data = load_breast_cancer()\n",
    "y = np.matrix(data.target).T\n",
    "X = np.matrix(data.data)\n",
    "M = X.shape[0]\n",
    "N = X.shape[1]\n",
    "list(data.target_names)\n",
    "data.data.shape\n",
    "# list(data.data)"
   ]
  },
  {
   "cell_type": "code",
   "execution_count": 2,
   "metadata": {},
   "outputs": [],
   "source": [
    "# Normalize each input feature\n",
    "\n",
    "def normalize(X):\n",
    "    M = X.shape[0]\n",
    "    XX = X - np.tile(np.mean(X,0),[M,1])\n",
    "    XX = np.divide(XX, np.tile(np.std(XX,0),[M,1]))\n",
    "    return XX\n",
    "\n",
    "XX = normalize(X)"
   ]
  },
  {
   "cell_type": "code",
   "execution_count": 14,
   "metadata": {},
   "outputs": [
    {
     "name": "stdout",
     "output_type": "stream",
     "text": [
      "4\n",
      "[(30, 6), (6, 5), (5, 1)]\n"
     ]
    }
   ],
   "source": [
    "# Let's start with a 3-layer network with sigmoid activation functions,\n",
    "# 6 units in layer 1, and 5 units in layer 2.\n",
    "\n",
    "h2 = 5\n",
    "h1 = 6\n",
    "W = [[], np.random.normal(0,0.1,[N,h1]),\n",
    "         np.random.normal(0,0.1,[h1,h2]),\n",
    "         np.random.normal(0,0.1,[h2,1])]\n",
    "print(len(W))\n",
    "print([np.shape(W[i]) for i in range(1,len(W)) ])"
   ]
  },
  {
   "cell_type": "code",
   "execution_count": 4,
   "metadata": {},
   "outputs": [],
   "source": [
    "b = [[], np.random.normal(0,0.1,[h1,1]),\n",
    "         np.random.normal(0,0.1,[h2,1]),\n",
    "         np.random.normal(0,0.1,[1,1])]\n",
    "L = len(W)-1"
   ]
  },
  {
   "cell_type": "code",
   "execution_count": 5,
   "metadata": {},
   "outputs": [],
   "source": [
    "def act(z):\n",
    "    return 1/(1+np.exp(-z))\n",
    "\n",
    "def actder(z):\n",
    "    az = act(z)\n",
    "    prod = np.multiply(az,1-az)\n",
    "    return prod\n",
    "\n",
    "def ff(x,W,b):\n",
    "    L = len(W)-1\n",
    "    a = x\n",
    "    for l in range(1,L+1):\n",
    "        z = W[l].T*a+b[l]\n",
    "        a = act(z)\n",
    "    return a\n",
    "\n",
    "def loss(y,yhat):\n",
    "    return -((1-y) * np.log(1-yhat) + y * np.log(yhat))"
   ]
  },
  {
   "cell_type": "code",
   "execution_count": 27,
   "metadata": {},
   "outputs": [
    {
     "name": "stdout",
     "output_type": "stream",
     "text": [
      "Z:  (6, 1)\n",
      "Z:  (5, 1)\n",
      "Z:  (1, 1)\n",
      "actdervshape:  (5, 1)\n",
      "weights:  (5, 1)\n",
      "w x delta (5, 1)\n",
      "delta shape:  (5, 1)\n",
      "-----------------------\n",
      "actdervshape:  (6, 1)\n",
      "weights:  (6, 5)\n",
      "w x delta (6, 1)\n",
      "delta shape:  (6, 1)\n",
      "-----------------------\n",
      "Z:  (6, 1)\n",
      "Z:  (5, 1)\n",
      "Z:  (1, 1)\n",
      "actdervshape:  (5, 1)\n",
      "weights:  (5, 1)\n",
      "w x delta (5, 1)\n",
      "delta shape:  (5, 1)\n",
      "-----------------------\n",
      "actdervshape:  (6, 1)\n",
      "weights:  (6, 5)\n",
      "w x delta (6, 1)\n",
      "delta shape:  (6, 1)\n",
      "-----------------------\n",
      "Z:  (6, 1)\n",
      "Z:  (5, 1)\n",
      "Z:  (1, 1)\n",
      "actdervshape:  (5, 1)\n",
      "weights:  (5, 1)\n",
      "w x delta (5, 1)\n",
      "delta shape:  (5, 1)\n",
      "-----------------------\n",
      "actdervshape:  (6, 1)\n",
      "weights:  (6, 5)\n",
      "w x delta (6, 1)\n",
      "delta shape:  (6, 1)\n",
      "-----------------------\n",
      "Z:  (6, 1)\n",
      "Z:  (5, 1)\n",
      "Z:  (1, 1)\n",
      "actdervshape:  (5, 1)\n",
      "weights:  (5, 1)\n",
      "w x delta (5, 1)\n",
      "delta shape:  (5, 1)\n",
      "-----------------------\n",
      "actdervshape:  (6, 1)\n",
      "weights:  (6, 5)\n",
      "w x delta (6, 1)\n",
      "delta shape:  (6, 1)\n",
      "-----------------------\n"
     ]
    }
   ],
   "source": [
    "    \n",
    "# Use mini-batch size 1\n",
    "\n",
    "alpha = 0.01\n",
    "max_iter = 2\n",
    "for iter in range(0, max_iter):\n",
    "    loss_this_iter = 0\n",
    "    order = np.random.permutation(M)\n",
    "    for i in range(0,2):\n",
    "        \n",
    "        # Grab the pattern order[i]\n",
    "        \n",
    "        x_this = XX[order[i],:].T\n",
    "#         print(\"xthis: \", x_this.shape)\n",
    "        y_this = y[order[i],0]\n",
    "#         print(y_this)\n",
    "        # Feed forward step\n",
    "        \n",
    "        a = [x_this]\n",
    "#         print(\"a: \",type(a))\n",
    "        z = [[]]\n",
    "        delta = [[]]\n",
    "        dW = [[]]\n",
    "        db = [[]]\n",
    "        for l in range(1,L+1):\n",
    "#             print(\"At layer \",l,\" in iter \", iter, \" input number: \", i )\n",
    "            z.append(W[l].T*a[l-1]+b[l])\n",
    "            print(\"Z: \", np.shape(z[-1]))\n",
    "            a.append(act(z[l]))\n",
    "#             print(\"a: \",len(a), \"  l=\", l)\n",
    "            # Just to give arrays the right shape for the backprop step\n",
    "            delta.append([]); dW.append([]); db.append([])\n",
    "            \n",
    "            \n",
    "        loss_this_pattern = loss(y_this, a[L][0,0])\n",
    "        loss_this_iter = loss_this_iter + loss_this_pattern\n",
    "            \n",
    "        # Backprop step\n",
    "\n",
    "        delta[L] = a[L] - y_this\n",
    "        for l in range(L,0,-1):\n",
    "#             print(\"BP l values: \", l)\n",
    "            db[l] = delta[l].copy()\n",
    "            dW[l] = a[l-1] * delta[l].T\n",
    "#             print(\"shape delta:\", delta[l].shape, \" a shape: \", a[l-1].shape, \"  dW shape: \", dW[l].shape)\n",
    "            if l > 1:\n",
    "                print(\"actdervshape: \",np.shape(actder(z[l-1])))\n",
    "                print(\"weights: \", np.shape(W[l]))\n",
    "                print(\"w x delta\", np.shape(W[l] * delta[l]))\n",
    "                delta[l-1] = np.multiply( actder(z[l-1]), W[l] * delta[l] )\n",
    "                print(\"delta shape: \", np.shape(delta[l-1]))\n",
    "                print(\"-----------------------\")\n",
    "                \n",
    "        # Check delta calculation\n",
    "        \n",
    "        if False:\n",
    "            print('Target: %f' % y_this)\n",
    "            print('y_hat: %f' % a[L][0,0])\n",
    "            print(db)\n",
    "            y_pred = ff(x_this,W,b)\n",
    "            diff = 1e-3\n",
    "            W[1][10,0] = W[1][10,0] + diff\n",
    "            y_pred_db = ff(x_this,W,b)\n",
    "            L1 = loss(y_this,y_pred)\n",
    "            L2 = loss(y_this,y_pred_db)\n",
    "            db_finite_difference = (L2-L1)/diff\n",
    "            print('Original out %f, perturbed out %f' %\n",
    "                 (y_pred[0,0], y_pred_db[0,0]))\n",
    "            print('Theoretical dW %f, calculated db %f' %\n",
    "                  (dW[1][10,0], db_finite_difference[0,0]))\n",
    "        \n",
    "        \n",
    "        \n",
    "#     print('Iteration %d loss %f' % (iter, loss_this_iter))\n",
    "    for l in range(1,L+1):            \n",
    "            W[l] = W[l] - alpha * dW[l]\n",
    "            b[l] = b[l] - alpha * db[l]\n",
    "#     print(z[3])"
   ]
  },
  {
   "cell_type": "code",
   "execution_count": 7,
   "metadata": {},
   "outputs": [
    {
     "data": {
      "text/plain": [
       "array([0., 0., 0., 1., 0., 0., 0., 0., 0., 0.])"
      ]
     },
     "execution_count": 7,
     "metadata": {},
     "output_type": "execute_result"
    }
   ],
   "source": [
    "a = 3\n",
    "n = np.zeros(10)\n",
    "n[a] = 1\n",
    "# n.shape\n",
    "n"
   ]
  },
  {
   "cell_type": "code",
   "execution_count": null,
   "metadata": {},
   "outputs": [],
   "source": []
  }
 ],
 "metadata": {
  "kernelspec": {
   "display_name": "Python 3",
   "language": "python",
   "name": "python3"
  },
  "language_info": {
   "codemirror_mode": {
    "name": "ipython",
    "version": 3
   },
   "file_extension": ".py",
   "mimetype": "text/x-python",
   "name": "python",
   "nbconvert_exporter": "python",
   "pygments_lexer": "ipython3",
   "version": "3.7.4"
  }
 },
 "nbformat": 4,
 "nbformat_minor": 2
}
