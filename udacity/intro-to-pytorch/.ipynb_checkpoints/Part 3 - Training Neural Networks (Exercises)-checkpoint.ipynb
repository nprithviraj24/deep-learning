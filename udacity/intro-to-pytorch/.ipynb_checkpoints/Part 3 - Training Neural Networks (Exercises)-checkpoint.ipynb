{
 "cells": [
  {
   "cell_type": "markdown",
   "metadata": {},
   "source": [
    "# Training Neural Networks\n",
    "\n",
    "The network we built in the previous part isn't so smart, it doesn't know anything about our handwritten digits. Neural networks with non-linear activations work like universal function approximators. There is some function that maps your input to the output. For example, images of handwritten digits to class probabilities. The power of neural networks is that we can train them to approximate this function, and basically any function given enough data and compute time.\n",
    "\n",
    "<img src=\"assets/function_approx.png\" width=500px>\n",
    "\n",
    "At first the network is naive, it doesn't know the function mapping the inputs to the outputs. We train the network by showing it examples of real data, then adjusting the network parameters such that it approximates this function.\n",
    "\n",
    "To find these parameters, we need to know how poorly the network is predicting the real outputs. For this we calculate a **loss function** (also called the cost), a measure of our prediction error. For example, the mean squared loss is often used in regression and binary classification problems\n",
    "\n",
    "$$\n",
    "\\large \\ell = \\frac{1}{2n}\\sum_i^n{\\left(y_i - \\hat{y}_i\\right)^2}\n",
    "$$\n",
    "\n",
    "where $n$ is the number of training examples, $y_i$ are the true labels, and $\\hat{y}_i$ are the predicted labels.\n",
    "\n",
    "By minimizing this loss with respect to the network parameters, we can find configurations where the loss is at a minimum and the network is able to predict the correct labels with high accuracy. We find this minimum using a process called **gradient descent**. The gradient is the slope of the loss function and points in the direction of fastest change. To get to the minimum in the least amount of time, we then want to follow the gradient (downwards). You can think of this like descending a mountain by following the steepest slope to the base.\n",
    "\n",
    "<img src='assets/gradient_descent.png' width=350px>"
   ]
  },
  {
   "cell_type": "markdown",
   "metadata": {},
   "source": [
    "## Backpropagation\n",
    "\n",
    "For single layer networks, gradient descent is straightforward to implement. However, it's more complicated for deeper, multilayer neural networks like the one we've built. Complicated enough that it took about 30 years before researchers figured out how to train multilayer networks.\n",
    "\n",
    "Training multilayer networks is done through **backpropagation** which is really just an application of the chain rule from calculus. It's easiest to understand if we convert a two layer network into a graph representation.\n",
    "\n",
    "<img src='assets/backprop_diagram.png' width=550px>\n",
    "\n",
    "In the forward pass through the network, our data and operations go from bottom to top here. We pass the input $x$ through a linear transformation $L_1$ with weights $W_1$ and biases $b_1$. The output then goes through the sigmoid operation $S$ and another linear transformation $L_2$. Finally we calculate the loss $\\ell$. We use the loss as a measure of how bad the network's predictions are. The goal then is to adjust the weights and biases to minimize the loss.\n",
    "\n",
    "To train the weights with gradient descent, we propagate the gradient of the loss backwards through the network. Each operation has some gradient between the inputs and outputs. As we send the gradients backwards, we multiply the incoming gradient with the gradient for the operation. Mathematically, this is really just calculating the gradient of the loss with respect to the weights using the chain rule.\n",
    "\n",
    "$$\n",
    "\\large \\frac{\\partial \\ell}{\\partial W_1} = \\frac{\\partial L_1}{\\partial W_1} \\frac{\\partial S}{\\partial L_1} \\frac{\\partial L_2}{\\partial S} \\frac{\\partial \\ell}{\\partial L_2}\n",
    "$$\n",
    "\n",
    "**Note:** I'm glossing over a few details here that require some knowledge of vector calculus, but they aren't necessary to understand what's going on.\n",
    "\n",
    "We update our weights using this gradient with some learning rate $\\alpha$. \n",
    "\n",
    "$$\n",
    "\\large W^\\prime_1 = W_1 - \\alpha \\frac{\\partial \\ell}{\\partial W_1}\n",
    "$$\n",
    "\n",
    "The learning rate $\\alpha$ is set such that the weight update steps are small enough that the iterative method settles in a minimum."
   ]
  },
  {
   "cell_type": "markdown",
   "metadata": {},
   "source": [
    "## Losses in PyTorch\n",
    "\n",
    "Let's start by seeing how we calculate the loss with PyTorch. Through the `nn` module, PyTorch provides losses such as the cross-entropy loss (`nn.CrossEntropyLoss`). You'll usually see the loss assigned to `criterion`. As noted in the last part, with a classification problem such as MNIST, we're using the softmax function to predict class probabilities. With a softmax output, you want to use cross-entropy as the loss. To actually calculate the loss, you first define the criterion then pass in the output of your network and the correct labels.\n",
    "\n",
    "Something really important to note here. Looking at [the documentation for `nn.CrossEntropyLoss`](https://pytorch.org/docs/stable/nn.html#torch.nn.CrossEntropyLoss),\n",
    "\n",
    "> This criterion combines `nn.LogSoftmax()` and `nn.NLLLoss()` in one single class.\n",
    ">\n",
    "> The input is expected to contain scores for each class.\n",
    "\n",
    "This means we need to pass in the raw output of our network into the loss, not the output of the softmax function. This raw output is usually called the *logits* or *scores*. We use the logits because softmax gives you probabilities which will often be very close to zero or one but floating-point numbers can't accurately represent values near zero or one ([read more here](https://docs.python.org/3/tutorial/floatingpoint.html)). It's usually best to avoid doing calculations with probabilities, typically we use log-probabilities."
   ]
  },
  {
   "cell_type": "code",
   "execution_count": 1,
   "metadata": {},
   "outputs": [],
   "source": [
    "import torch\n",
    "from torch import nn\n",
    "import torch.nn.functional as F\n",
    "from torchvision import datasets, transforms\n",
    "\n",
    "# Define a transform to normalize the data\n",
    "transform = transforms.Compose([transforms.ToTensor(),\n",
    "                                transforms.Normalize((0.5,), (0.5,)),\n",
    "                              ])\n",
    "# Download and load the training data\n",
    "trainset = datasets.MNIST('~/.pytorch/MNIST_data/', download=True, train=True, transform=transform)\n",
    "trainloader = torch.utils.data.DataLoader(trainset, batch_size=64, shuffle=True)"
   ]
  },
  {
   "cell_type": "markdown",
   "metadata": {},
   "source": [
    "### Note\n",
    "If you haven't seen `nn.Sequential` yet, please finish the end of the Part 2 notebook."
   ]
  },
  {
   "cell_type": "code",
   "execution_count": 3,
   "metadata": {},
   "outputs": [
    {
     "data": {
      "text/plain": [
       "tensor([[ 1.9051e-01,  3.6005e-01, -3.2082e-02, -2.5710e-01,  2.8890e-01,\n",
       "          2.2639e-03, -3.5401e-03, -1.0241e-01,  2.9195e-01,  4.0953e-03],\n",
       "        [ 2.6117e-01,  3.1794e-01,  6.3225e-02, -2.6930e-01,  2.7040e-01,\n",
       "         -1.7801e-02,  1.2284e-01, -6.6303e-02,  2.2623e-01,  1.0508e-01],\n",
       "        [ 2.7411e-01,  2.9346e-01, -2.0570e-02, -2.0804e-01,  2.6058e-01,\n",
       "         -6.5076e-02, -3.8157e-02, -9.5239e-02,  2.9475e-01,  4.2045e-02],\n",
       "        [ 2.6143e-01,  2.9474e-01,  3.0100e-02, -2.3585e-01,  3.2915e-01,\n",
       "         -7.6418e-02,  2.4935e-02, -1.0643e-01,  2.4804e-01,  5.2519e-02],\n",
       "        [ 2.0886e-01,  3.6869e-01,  1.1816e-01, -2.8716e-01,  2.8138e-01,\n",
       "         -7.3946e-02,  8.7818e-02, -5.4371e-02,  2.4579e-01,  6.2820e-02],\n",
       "        [ 2.5716e-01,  2.9277e-01,  6.1414e-02, -1.9910e-01,  2.3949e-01,\n",
       "         -3.2934e-03, -6.2806e-03, -1.2098e-01,  2.6528e-01,  4.1925e-02],\n",
       "        [ 1.9592e-01,  3.8324e-01,  1.8349e-02, -1.5217e-01,  3.0900e-01,\n",
       "         -1.1793e-01, -3.7522e-02, -1.1320e-01,  3.1869e-01,  5.1064e-02],\n",
       "        [ 1.8612e-01,  2.8609e-01,  2.1132e-02, -1.9800e-01,  1.6350e-01,\n",
       "         -2.0057e-03, -3.6649e-02, -1.2099e-01,  2.6230e-01,  6.7154e-02],\n",
       "        [ 2.2895e-01,  2.7922e-01,  6.7479e-02, -2.2252e-01,  2.8519e-01,\n",
       "         -7.2024e-03,  6.2723e-02, -3.1207e-03,  3.0089e-01,  5.4066e-02],\n",
       "        [ 2.8642e-01,  2.8213e-01,  2.6576e-02, -2.8016e-01,  2.2000e-01,\n",
       "         -5.5785e-02,  5.3965e-02, -1.1444e-01,  2.5298e-01,  2.1307e-02],\n",
       "        [ 1.8024e-01,  3.6676e-01,  5.9059e-02, -2.9332e-01,  2.0571e-01,\n",
       "          1.8018e-02, -2.1102e-02, -8.9245e-02,  3.5347e-01,  1.0146e-01],\n",
       "        [ 2.1205e-01,  2.6988e-01,  3.5103e-02, -1.9739e-01,  2.7902e-01,\n",
       "         -5.4030e-02,  9.7750e-02, -7.9703e-02,  2.1245e-01,  5.1599e-03],\n",
       "        [ 2.5005e-01,  2.7094e-01, -1.3155e-02, -2.7289e-01,  1.8495e-01,\n",
       "          5.4198e-03,  2.7688e-02, -3.8146e-02,  2.9234e-01,  5.5470e-02],\n",
       "        [ 1.7986e-01,  3.6076e-01,  8.8718e-02, -2.0301e-01,  2.7252e-01,\n",
       "         -3.1110e-02, -2.9858e-02, -7.2522e-02,  3.4411e-01,  5.9782e-02],\n",
       "        [ 2.5166e-01,  3.0523e-01,  6.2843e-02, -1.8443e-01,  2.2208e-01,\n",
       "         -7.4638e-02,  4.1946e-02, -1.1165e-01,  2.3393e-01,  1.1996e-01],\n",
       "        [ 2.5062e-01,  3.2186e-01, -7.2653e-02, -3.3647e-01,  3.0157e-01,\n",
       "         -5.1853e-02,  8.7362e-02, -3.8428e-02,  2.5083e-01, -8.6499e-03],\n",
       "        [ 2.9300e-01,  3.3482e-01,  8.8929e-04, -2.4895e-01,  2.5984e-01,\n",
       "         -5.9141e-02,  4.7709e-02, -1.5336e-02,  3.7979e-01,  1.3531e-01],\n",
       "        [ 2.1124e-01,  4.4581e-01,  8.1070e-02, -2.8627e-01,  3.1297e-01,\n",
       "         -1.1291e-01,  5.5433e-02, -4.8975e-02,  3.6846e-01,  1.4337e-01],\n",
       "        [ 1.8464e-01,  2.6053e-01,  1.6308e-02, -1.8753e-01,  1.6126e-01,\n",
       "          2.3301e-02, -3.6708e-02, -6.6912e-02,  2.6215e-01,  6.1662e-02],\n",
       "        [ 3.2717e-01,  3.3048e-01,  4.8147e-02, -2.5632e-01,  2.3883e-01,\n",
       "         -4.2011e-02,  1.2544e-02, -8.0416e-02,  2.9613e-01,  4.7490e-02],\n",
       "        [ 2.3317e-01,  3.2478e-01,  4.0533e-02, -2.4362e-01,  2.1150e-01,\n",
       "         -7.4082e-02,  3.8071e-02, -2.1274e-02,  2.2145e-01,  1.7323e-01],\n",
       "        [ 2.6418e-01,  3.5971e-01,  5.2924e-02, -3.1807e-01,  2.6588e-01,\n",
       "         -9.3599e-02,  4.3090e-02, -5.6623e-02,  3.0633e-01,  1.4107e-01],\n",
       "        [ 1.7043e-01,  3.2162e-01,  1.0612e-01, -2.0492e-01,  2.2061e-01,\n",
       "         -4.6954e-02,  1.6483e-02, -1.1528e-01,  2.8798e-01,  8.5558e-02],\n",
       "        [ 2.6452e-01,  3.3664e-01,  4.0238e-03, -2.5193e-01,  2.6706e-01,\n",
       "         -4.3532e-03,  2.2927e-02, -1.2681e-01,  2.7576e-01, -7.3412e-02],\n",
       "        [ 2.1706e-01,  3.1306e-01,  5.5096e-02, -2.9589e-01,  2.3815e-01,\n",
       "         -1.7724e-02,  1.2014e-01, -7.3640e-02,  1.9074e-01,  6.3681e-02],\n",
       "        [ 2.9571e-01,  3.9279e-01,  4.3789e-02, -2.4266e-01,  2.9435e-01,\n",
       "         -7.2692e-04, -4.8689e-02, -5.9147e-02,  3.5114e-01,  3.8238e-02],\n",
       "        [ 2.2904e-01,  3.0910e-01,  8.1989e-02, -2.2939e-01,  2.1013e-01,\n",
       "         -6.5246e-02,  6.2861e-02, -6.9127e-02,  3.0727e-01,  1.3604e-01],\n",
       "        [ 2.2972e-01,  2.1895e-01, -1.5807e-02, -2.6950e-01,  1.6921e-01,\n",
       "         -7.4418e-02,  8.7720e-02, -6.3212e-02,  1.9624e-01,  3.5472e-02],\n",
       "        [ 2.9981e-01,  3.7307e-01,  3.4045e-02, -2.2426e-01,  3.3662e-01,\n",
       "         -1.3555e-01,  5.1292e-02, -1.5185e-02,  3.2506e-01,  1.5720e-01],\n",
       "        [ 2.3991e-01,  2.9825e-01,  1.2147e-01, -2.7804e-01,  2.1205e-01,\n",
       "         -5.5330e-02,  7.1615e-02, -7.2331e-02,  2.7408e-01,  1.0863e-01],\n",
       "        [ 2.5680e-01,  2.6767e-01,  1.7875e-02, -2.8770e-01,  2.2938e-01,\n",
       "         -3.4339e-02, -2.7371e-02, -5.1818e-02,  2.7844e-01,  6.9859e-02],\n",
       "        [ 2.2457e-01,  3.9575e-01,  1.4141e-02, -2.3424e-01,  2.1343e-01,\n",
       "         -3.8862e-02,  1.5623e-02, -1.0917e-01,  3.4871e-01,  3.9992e-02],\n",
       "        [ 2.0137e-01,  2.6999e-01,  3.8273e-02, -2.8562e-01,  2.0652e-01,\n",
       "          1.2977e-01,  1.6266e-01, -6.3035e-04,  1.6839e-01,  1.6122e-02],\n",
       "        [ 2.1797e-01,  3.2492e-01, -1.9397e-02, -2.9289e-01,  2.5022e-01,\n",
       "          4.2154e-03,  5.4239e-02, -7.5494e-02,  2.5595e-01,  6.2339e-02],\n",
       "        [ 2.4866e-01,  4.0414e-01,  6.5931e-02, -2.7624e-01,  2.8917e-01,\n",
       "          1.2067e-02,  1.3860e-02, -8.2462e-02,  2.7563e-01,  9.3047e-02],\n",
       "        [ 2.4733e-01,  2.6619e-01,  5.5082e-02, -2.6574e-01,  2.2629e-01,\n",
       "         -3.1046e-02,  1.2405e-01, -5.6878e-02,  2.1070e-01,  4.9350e-02],\n",
       "        [ 2.1948e-01,  4.0824e-01, -5.9279e-03, -2.6997e-01,  2.4914e-01,\n",
       "          4.1824e-02, -1.8779e-02, -3.1642e-02,  4.4020e-01,  7.8143e-02],\n",
       "        [ 2.7585e-01,  2.8092e-01, -7.6070e-03, -2.1688e-01,  2.1437e-01,\n",
       "         -1.7525e-02,  1.4442e-02, -6.0819e-02,  3.1421e-01,  1.9370e-02],\n",
       "        [ 2.3530e-01,  3.2194e-01,  1.3137e-01, -3.2871e-01,  2.3783e-01,\n",
       "          3.0393e-02,  1.4306e-01, -2.4013e-02,  2.3521e-01,  7.7528e-02],\n",
       "        [ 2.4988e-01,  2.8545e-01, -2.9108e-02, -2.3076e-01,  2.4287e-01,\n",
       "          2.4209e-02,  1.1264e-02, -6.7975e-02,  2.8436e-01, -3.6185e-02],\n",
       "        [ 2.2978e-01,  2.9519e-01,  1.0160e-01, -2.4102e-01,  1.6372e-01,\n",
       "         -4.5223e-02,  6.0478e-02, -9.0634e-02,  1.6125e-01,  1.1269e-01],\n",
       "        [ 1.8427e-01,  3.6848e-01,  4.7259e-02, -2.0040e-01,  2.1962e-01,\n",
       "         -3.8170e-02,  4.6619e-02, -1.2038e-01,  2.6344e-01,  8.7221e-02],\n",
       "        [ 2.0648e-01,  3.1337e-01,  7.2713e-02, -2.1830e-01,  2.0216e-01,\n",
       "         -1.1057e-01,  5.1606e-03, -1.2265e-01,  2.4805e-01,  1.0052e-01],\n",
       "        [ 2.7596e-01,  3.1636e-01,  3.3346e-02, -2.7008e-01,  2.8125e-01,\n",
       "         -5.2206e-02,  7.1751e-02, -7.9045e-02,  2.3259e-01,  8.9584e-02],\n",
       "        [ 1.7121e-01,  2.1194e-01,  2.0103e-02, -2.9584e-01,  1.7246e-01,\n",
       "          6.4117e-02,  1.0509e-01, -7.7740e-02,  1.9748e-01, -3.1815e-02],\n",
       "        [ 2.1624e-01,  3.4893e-01,  3.1519e-03, -3.1238e-01,  3.0527e-01,\n",
       "          7.2831e-03,  6.8140e-02, -8.6609e-02,  2.5608e-01, -7.6428e-03],\n",
       "        [ 2.5349e-01,  2.8457e-01, -3.5263e-03, -2.5991e-01,  1.5893e-01,\n",
       "         -2.8147e-02,  3.4456e-02, -9.3469e-02,  3.4222e-01,  5.2692e-02],\n",
       "        [ 2.7932e-01,  2.8742e-01, -4.7813e-02, -2.8950e-01,  2.2081e-01,\n",
       "         -3.3734e-02,  1.0731e-01, -3.3909e-02,  2.2049e-01,  7.8715e-02],\n",
       "        [ 2.2470e-01,  2.6013e-01,  9.1589e-02, -1.7313e-01,  2.2545e-01,\n",
       "         -2.5847e-02,  2.4625e-02, -2.0757e-02,  3.0739e-01,  8.2509e-02],\n",
       "        [ 2.2676e-01,  3.0031e-01,  1.3531e-02, -1.3478e-01,  2.8446e-01,\n",
       "         -4.3047e-02,  4.9926e-02, -6.2447e-02,  2.9746e-01,  5.9231e-02],\n",
       "        [ 2.3022e-01,  3.2595e-01,  5.2708e-02, -1.9905e-01,  2.0204e-01,\n",
       "          5.9705e-02,  6.7732e-02, -4.9690e-02,  2.2212e-01,  6.6568e-02],\n",
       "        [ 2.0695e-01,  3.0411e-01,  4.4659e-02, -1.9103e-01,  2.7323e-01,\n",
       "         -2.1823e-02,  5.2687e-02, -1.1216e-01,  2.2860e-01, -2.1322e-02],\n",
       "        [ 2.7401e-01,  2.9405e-01, -1.8121e-02, -2.6483e-01,  1.9942e-01,\n",
       "         -1.9711e-02,  1.1772e-02, -1.2380e-01,  2.5072e-01,  4.2615e-02],\n",
       "        [ 2.1201e-01,  3.3561e-01, -5.0279e-02, -2.9290e-01,  2.6822e-01,\n",
       "         -4.1337e-02,  1.4086e-01, -3.6031e-02,  2.7592e-01,  4.3394e-02],\n",
       "        [ 1.9628e-01,  2.4282e-01, -1.3027e-04, -2.0004e-01,  2.3241e-01,\n",
       "         -8.5904e-03,  3.8211e-02, -7.9681e-02,  2.4489e-01,  2.7222e-02],\n",
       "        [ 2.2940e-01,  2.3075e-01,  2.5339e-02, -2.0344e-01,  2.3564e-01,\n",
       "         -9.3821e-02,  5.1687e-03, -5.9844e-02,  2.6539e-01,  4.2221e-02],\n",
       "        [ 2.0384e-01,  3.4289e-01,  6.5190e-02, -1.8375e-01,  2.2967e-01,\n",
       "         -1.0262e-02,  6.5419e-04, -6.4952e-02,  2.7736e-01,  7.9840e-02],\n",
       "        [ 2.1751e-01,  2.8724e-01,  3.7358e-02, -1.5237e-01,  2.2264e-01,\n",
       "         -3.6748e-02,  5.7570e-02, -8.5594e-02,  2.3830e-01,  4.6290e-02],\n",
       "        [ 2.0739e-01,  4.0052e-01, -4.9574e-04, -1.9781e-01,  2.7592e-01,\n",
       "         -8.8422e-02, -2.8689e-02, -1.0229e-01,  3.3016e-01,  2.6438e-02],\n",
       "        [ 2.3181e-01,  2.9597e-01,  2.1772e-02, -1.9906e-01,  2.1585e-01,\n",
       "         -2.5524e-02, -2.5820e-02, -1.6575e-01,  2.3777e-01,  1.2526e-02],\n",
       "        [ 2.6499e-01,  3.4513e-01,  1.4921e-02, -1.6695e-01,  2.9983e-01,\n",
       "         -3.9321e-02,  1.1550e-01,  2.3814e-02,  3.4039e-01,  9.7960e-02],\n",
       "        [ 2.6153e-01,  2.3610e-01, -1.7419e-02, -2.7452e-01,  2.2778e-01,\n",
       "          3.0228e-02,  6.1556e-02, -4.9895e-02,  2.5552e-01,  4.5256e-02],\n",
       "        [ 2.2766e-01,  3.4936e-01,  2.3075e-02, -2.6302e-01,  1.9492e-01,\n",
       "         -9.2647e-03, -1.3537e-02, -9.0271e-02,  3.5825e-01,  5.3159e-02],\n",
       "        [ 2.0661e-01,  3.7954e-01,  3.2505e-02, -2.5817e-01,  2.5381e-01,\n",
       "         -3.8030e-02,  7.7430e-02, -4.0908e-02,  2.9737e-01,  1.4706e-01]],\n",
       "       grad_fn=<AddmmBackward>)"
      ]
     },
     "execution_count": 3,
     "metadata": {},
     "output_type": "execute_result"
    }
   ],
   "source": [
    "# Build a feed-forward network\n",
    "model = nn.Sequential(nn.Linear(784, 128),\n",
    "                      nn.ReLU(),\n",
    "                      nn.Linear(128, 64),\n",
    "                      nn.ReLU(),\n",
    "                      nn.Linear(64, 10))\n",
    "\n",
    "# Define the loss\n",
    "criterion = nn.CrossEntropyLoss()\n",
    "\n",
    "# Get our data\n",
    "images, labels = next(iter(trainloader))\n",
    "# Flatten images\n",
    "images = images.view(images.shape[0], -1)\n",
    "\n",
    "# Forward pass, get our logits\n",
    "logits = model(images)\n",
    "logits"
   ]
  },
  {
   "cell_type": "code",
   "execution_count": 4,
   "metadata": {},
   "outputs": [
    {
     "name": "stdout",
     "output_type": "stream",
     "text": [
      "tensor(2.3455, grad_fn=<NllLossBackward>)\n"
     ]
    }
   ],
   "source": [
    "# Calculate the loss with the logits and the labels\n",
    "loss = criterion(logits, labels)\n",
    "\n",
    "print(loss)"
   ]
  },
  {
   "cell_type": "markdown",
   "metadata": {},
   "source": [
    "In my experience it's more convenient to build the model with a log-softmax output using `nn.LogSoftmax` or `F.log_softmax` ([documentation](https://pytorch.org/docs/stable/nn.html#torch.nn.LogSoftmax)). Then you can get the actual probabilities by taking the exponential `torch.exp(output)`. With a log-softmax output, you want to use the negative log likelihood loss, `nn.NLLLoss` ([documentation](https://pytorch.org/docs/stable/nn.html#torch.nn.NLLLoss)).\n",
    "\n",
    ">**Exercise:** Build a model that returns the log-softmax as the output and calculate the loss using the negative log likelihood loss. Note that for `nn.LogSoftmax` and `F.log_softmax` you'll need to set the `dim` keyword argument appropriately. `dim=0` calculates softmax across the rows, so each column sums to 1, while `dim=1` calculates across the columns so each row sums to 1. Think about what you want the output to be and choose `dim` appropriately."
   ]
  },
  {
   "cell_type": "code",
   "execution_count": null,
   "metadata": {},
   "outputs": [],
   "source": [
    "from collection import OrderedDict\n",
    "# TODO: Build a feed-forward network\n",
    "model2 = nn.Sequential(OrderedDict([\n",
    "    ('fc1', nn.Linear(784, 128)),\n",
    "    ('relu', nn.ReLu())\n",
    "    ('fc2', nn.Linear(128, 64)),\n",
    "    ('relu', nn.ReLu()),\n",
    "    ('fc3', nn.Linear(64, 10)),\n",
    "    ('logSoftmax', nn.LogSoftmax(10, dim=1))\n",
    "#     ('NLL')\n",
    "]))\n",
    "\n",
    "# TODO: Define the loss\n",
    "criterion = \n",
    "\n",
    "### Run this to check your work\n",
    "# Get our data\n",
    "images, labels = next(iter(trainloader))\n",
    "# Flatten images\n",
    "images = images.view(images.shape[0], -1)\n",
    "\n",
    "# Forward pass, get our logits\n",
    "logits = model(images)\n",
    "# Calculate the loss with the logits and the labels\n",
    "loss = criterion(logits, labels)\n",
    "\n",
    "print(loss)"
   ]
  },
  {
   "cell_type": "markdown",
   "metadata": {},
   "source": [
    "## Autograd\n",
    "\n",
    "Now that we know how to calculate a loss, how do we use it to perform backpropagation? Torch provides a module, `autograd`, for automatically calculating the gradients of tensors. We can use it to calculate the gradients of all our parameters with respect to the loss. Autograd works by keeping track of operations performed on tensors, then going backwards through those operations, calculating gradients along the way. To make sure PyTorch keeps track of operations on a tensor and calculates the gradients, you need to set `requires_grad = True` on a tensor. You can do this at creation with the `requires_grad` keyword, or at any time with `x.requires_grad_(True)`.\n",
    "\n",
    "You can turn off gradients for a block of code with the `torch.no_grad()` content:\n",
    "```python\n",
    "x = torch.zeros(1, requires_grad=True)\n",
    ">>> with torch.no_grad():\n",
    "...     y = x * 2\n",
    ">>> y.requires_grad\n",
    "False\n",
    "```\n",
    "\n",
    "Also, you can turn on or off gradients altogether with `torch.set_grad_enabled(True|False)`.\n",
    "\n",
    "The gradients are computed with respect to some variable `z` with `z.backward()`. This does a backward pass through the operations that created `z`."
   ]
  },
  {
   "cell_type": "code",
   "execution_count": null,
   "metadata": {},
   "outputs": [],
   "source": [
    "x = torch.randn(2,2, requires_grad=True)\n",
    "print(x)"
   ]
  },
  {
   "cell_type": "code",
   "execution_count": null,
   "metadata": {},
   "outputs": [],
   "source": [
    "y = x**2\n",
    "print(y)"
   ]
  },
  {
   "cell_type": "markdown",
   "metadata": {},
   "source": [
    "Below we can see the operation that created `y`, a power operation `PowBackward0`."
   ]
  },
  {
   "cell_type": "code",
   "execution_count": null,
   "metadata": {},
   "outputs": [],
   "source": [
    "## grad_fn shows the function that generated this variable\n",
    "print(y.grad_fn)"
   ]
  },
  {
   "cell_type": "markdown",
   "metadata": {},
   "source": [
    "The autograd module keeps track of these operations and knows how to calculate the gradient for each one. In this way, it's able to calculate the gradients for a chain of operations, with respect to any one tensor. Let's reduce the tensor `y` to a scalar value, the mean."
   ]
  },
  {
   "cell_type": "code",
   "execution_count": null,
   "metadata": {},
   "outputs": [],
   "source": [
    "z = y.mean()\n",
    "print(z)"
   ]
  },
  {
   "cell_type": "markdown",
   "metadata": {},
   "source": [
    "You can check the gradients for `x` and `y` but they are empty currently."
   ]
  },
  {
   "cell_type": "code",
   "execution_count": null,
   "metadata": {},
   "outputs": [],
   "source": [
    "print(x.grad)"
   ]
  },
  {
   "cell_type": "markdown",
   "metadata": {},
   "source": [
    "To calculate the gradients, you need to run the `.backward` method on a Variable, `z` for example. This will calculate the gradient for `z` with respect to `x`\n",
    "\n",
    "$$\n",
    "\\frac{\\partial z}{\\partial x} = \\frac{\\partial}{\\partial x}\\left[\\frac{1}{n}\\sum_i^n x_i^2\\right] = \\frac{x}{2}\n",
    "$$"
   ]
  },
  {
   "cell_type": "code",
   "execution_count": null,
   "metadata": {},
   "outputs": [],
   "source": [
    "z.backward()\n",
    "print(x.grad)\n",
    "print(x/2)"
   ]
  },
  {
   "cell_type": "markdown",
   "metadata": {},
   "source": [
    "These gradients calculations are particularly useful for neural networks. For training we need the gradients of the cost with respect to the weights. With PyTorch, we run data forward through the network to calculate the loss, then, go backwards to calculate the gradients with respect to the loss. Once we have the gradients we can make a gradient descent step. "
   ]
  },
  {
   "cell_type": "markdown",
   "metadata": {},
   "source": [
    "## Loss and Autograd together\n",
    "\n",
    "When we create a network with PyTorch, all of the parameters are initialized with `requires_grad = True`. This means that when we calculate the loss and call `loss.backward()`, the gradients for the parameters are calculated. These gradients are used to update the weights with gradient descent. Below you can see an example of calculating the gradients using a backwards pass."
   ]
  },
  {
   "cell_type": "code",
   "execution_count": null,
   "metadata": {},
   "outputs": [],
   "source": [
    "# Build a feed-forward network\n",
    "model = nn.Sequential(nn.Linear(784, 128),\n",
    "                      nn.ReLU(),\n",
    "                      nn.Linear(128, 64),\n",
    "                      nn.ReLU(),\n",
    "                      nn.Linear(64, 10),\n",
    "                      nn.LogSoftmax(dim=1))\n",
    "\n",
    "criterion = nn.NLLLoss()\n",
    "images, labels = next(iter(trainloader))\n",
    "images = images.view(images.shape[0], -1)\n",
    "\n",
    "logits = model(images)\n",
    "loss = criterion(logits, labels)"
   ]
  },
  {
   "cell_type": "code",
   "execution_count": null,
   "metadata": {},
   "outputs": [],
   "source": [
    "print('Before backward pass: \\n', model[0].weight.grad)\n",
    "\n",
    "loss.backward()\n",
    "\n",
    "print('After backward pass: \\n', model[0].weight.grad)"
   ]
  },
  {
   "cell_type": "markdown",
   "metadata": {},
   "source": [
    "## Training the network!\n",
    "\n",
    "There's one last piece we need to start training, an optimizer that we'll use to update the weights with the gradients. We get these from PyTorch's [`optim` package](https://pytorch.org/docs/stable/optim.html). For example we can use stochastic gradient descent with `optim.SGD`. You can see how to define an optimizer below."
   ]
  },
  {
   "cell_type": "code",
   "execution_count": null,
   "metadata": {},
   "outputs": [],
   "source": [
    "from torch import optim\n",
    "\n",
    "# Optimizers require the parameters to optimize and a learning rate\n",
    "optimizer = optim.SGD(model.parameters(), lr=0.01)"
   ]
  },
  {
   "cell_type": "markdown",
   "metadata": {},
   "source": [
    "Now we know how to use all the individual parts so it's time to see how they work together. Let's consider just one learning step before looping through all the data. The general process with PyTorch:\n",
    "\n",
    "* Make a forward pass through the network \n",
    "* Use the network output to calculate the loss\n",
    "* Perform a backward pass through the network with `loss.backward()` to calculate the gradients\n",
    "* Take a step with the optimizer to update the weights\n",
    "\n",
    "Below I'll go through one training step and print out the weights and gradients so you can see how it changes. Note that I have a line of code `optimizer.zero_grad()`. When you do multiple backwards passes with the same parameters, the gradients are accumulated. This means that you need to zero the gradients on each training pass or you'll retain gradients from previous training batches."
   ]
  },
  {
   "cell_type": "code",
   "execution_count": null,
   "metadata": {},
   "outputs": [],
   "source": [
    "print('Initial weights - ', model[0].weight)\n",
    "\n",
    "images, labels = next(iter(trainloader))\n",
    "images.resize_(64, 784)\n",
    "\n",
    "# Clear the gradients, do this because gradients are accumulated\n",
    "optimizer.zero_grad()\n",
    "\n",
    "# Forward pass, then backward pass, then update weights\n",
    "output = model(images)\n",
    "loss = criterion(output, labels)\n",
    "loss.backward()\n",
    "print('Gradient -', model[0].weight.grad)"
   ]
  },
  {
   "cell_type": "code",
   "execution_count": null,
   "metadata": {},
   "outputs": [],
   "source": [
    "# Take an update step and few the new weights\n",
    "optimizer.step()\n",
    "print('Updated weights - ', model[0].weight)"
   ]
  },
  {
   "cell_type": "markdown",
   "metadata": {},
   "source": [
    "### Training for real\n",
    "\n",
    "Now we'll put this algorithm into a loop so we can go through all the images. Some nomenclature, one pass through the entire dataset is called an *epoch*. So here we're going to loop through `trainloader` to get our training batches. For each batch, we'll doing a training pass where we calculate the loss, do a backwards pass, and update the weights.\n",
    "\n",
    ">**Exercise:** Implement the training pass for our network. If you implemented it correctly, you should see the training loss drop with each epoch."
   ]
  },
  {
   "cell_type": "code",
   "execution_count": null,
   "metadata": {},
   "outputs": [],
   "source": [
    "## Your solution here\n",
    "\n",
    "model = nn.Sequential(nn.Linear(784, 128),\n",
    "                      nn.ReLU(),\n",
    "                      nn.Linear(128, 64),\n",
    "                      nn.ReLU(),\n",
    "                      nn.Linear(64, 10),\n",
    "                      nn.LogSoftmax(dim=1))\n",
    "\n",
    "criterion = nn.NLLLoss()\n",
    "optimizer = optim.SGD(model.parameters(), lr=0.003)\n",
    "\n",
    "epochs = 5\n",
    "for e in range(epochs):\n",
    "    running_loss = 0\n",
    "    for images, labels in trainloader:\n",
    "        # Flatten MNIST images into a 784 long vector\n",
    "        images = images.view(images.shape[0], -1)\n",
    "    \n",
    "        # TODO: Training pass\n",
    "        \n",
    "        loss = \n",
    "        \n",
    "        running_loss += loss.item()\n",
    "    else:\n",
    "        print(f\"Training loss: {running_loss/len(trainloader)}\")"
   ]
  },
  {
   "cell_type": "markdown",
   "metadata": {},
   "source": [
    "With the network trained, we can check out it's predictions."
   ]
  },
  {
   "cell_type": "code",
   "execution_count": null,
   "metadata": {},
   "outputs": [],
   "source": [
    "%matplotlib inline\n",
    "import helper\n",
    "\n",
    "images, labels = next(iter(trainloader))\n",
    "\n",
    "img = images[0].view(1, 784)\n",
    "# Turn off gradients to speed up this part\n",
    "with torch.no_grad():\n",
    "    logps = model(img)\n",
    "\n",
    "# Output of the network are log-probabilities, need to take exponential for probabilities\n",
    "ps = torch.exp(logps)\n",
    "helper.view_classify(img.view(1, 28, 28), ps)"
   ]
  },
  {
   "cell_type": "markdown",
   "metadata": {},
   "source": [
    "Now our network is brilliant. It can accurately predict the digits in our images. Next up you'll write the code for training a neural network on a more complex dataset."
   ]
  }
 ],
 "metadata": {
  "kernelspec": {
   "display_name": "Python 3",
   "language": "python",
   "name": "python3"
  },
  "language_info": {
   "codemirror_mode": {
    "name": "ipython",
    "version": 3
   },
   "file_extension": ".py",
   "mimetype": "text/x-python",
   "name": "python",
   "nbconvert_exporter": "python",
   "pygments_lexer": "ipython3",
   "version": "3.7.4"
  }
 },
 "nbformat": 4,
 "nbformat_minor": 2
}
