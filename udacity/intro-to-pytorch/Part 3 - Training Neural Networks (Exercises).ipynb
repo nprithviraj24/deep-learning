{
 "cells": [
  {
   "cell_type": "markdown",
   "metadata": {},
   "source": [
    "# Training Neural Networks\n",
    "\n",
    "The network we built in the previous part isn't so smart, it doesn't know anything about our handwritten digits. Neural networks with non-linear activations work like universal function approximators. There is some function that maps your input to the output. For example, images of handwritten digits to class probabilities. The power of neural networks is that we can train them to approximate this function, and basically any function given enough data and compute time.\n",
    "\n",
    "<img src=\"assets/function_approx.png\" width=500px>\n",
    "\n",
    "At first the network is naive, it doesn't know the function mapping the inputs to the outputs. We train the network by showing it examples of real data, then adjusting the network parameters such that it approximates this function.\n",
    "\n",
    "To find these parameters, we need to know how poorly the network is predicting the real outputs. For this we calculate a **loss function** (also called the cost), a measure of our prediction error. For example, the mean squared loss is often used in regression and binary classification problems\n",
    "\n",
    "$$\n",
    "\\large \\ell = \\frac{1}{2n}\\sum_i^n{\\left(y_i - \\hat{y}_i\\right)^2}\n",
    "$$\n",
    "\n",
    "where $n$ is the number of training examples, $y_i$ are the true labels, and $\\hat{y}_i$ are the predicted labels.\n",
    "\n",
    "By minimizing this loss with respect to the network parameters, we can find configurations where the loss is at a minimum and the network is able to predict the correct labels with high accuracy. We find this minimum using a process called **gradient descent**. The gradient is the slope of the loss function and points in the direction of fastest change. To get to the minimum in the least amount of time, we then want to follow the gradient (downwards). You can think of this like descending a mountain by following the steepest slope to the base.\n",
    "\n",
    "<img src='assets/gradient_descent.png' width=350px>"
   ]
  },
  {
   "cell_type": "markdown",
   "metadata": {},
   "source": [
    "## Backpropagation\n",
    "\n",
    "For single layer networks, gradient descent is straightforward to implement. However, it's more complicated for deeper, multilayer neural networks like the one we've built. Complicated enough that it took about 30 years before researchers figured out how to train multilayer networks.\n",
    "\n",
    "Training multilayer networks is done through **backpropagation** which is really just an application of the chain rule from calculus. It's easiest to understand if we convert a two layer network into a graph representation.\n",
    "\n",
    "<img src='assets/backprop_diagram.png' width=550px>\n",
    "\n",
    "In the forward pass through the network, our data and operations go from bottom to top here. We pass the input $x$ through a linear transformation $L_1$ with weights $W_1$ and biases $b_1$. The output then goes through the sigmoid operation $S$ and another linear transformation $L_2$. Finally we calculate the loss $\\ell$. We use the loss as a measure of how bad the network's predictions are. The goal then is to adjust the weights and biases to minimize the loss.\n",
    "\n",
    "To train the weights with gradient descent, we propagate the gradient of the loss backwards through the network. Each operation has some gradient between the inputs and outputs. As we send the gradients backwards, we multiply the incoming gradient with the gradient for the operation. Mathematically, this is really just calculating the gradient of the loss with respect to the weights using the chain rule.\n",
    "\n",
    "$$\n",
    "\\large \\frac{\\partial \\ell}{\\partial W_1} = \\frac{\\partial L_1}{\\partial W_1} \\frac{\\partial S}{\\partial L_1} \\frac{\\partial L_2}{\\partial S} \\frac{\\partial \\ell}{\\partial L_2}\n",
    "$$\n",
    "\n",
    "**Note:** I'm glossing over a few details here that require some knowledge of vector calculus, but they aren't necessary to understand what's going on.\n",
    "\n",
    "We update our weights using this gradient with some learning rate $\\alpha$. \n",
    "\n",
    "$$\n",
    "\\large W^\\prime_1 = W_1 - \\alpha \\frac{\\partial \\ell}{\\partial W_1}\n",
    "$$\n",
    "\n",
    "The learning rate $\\alpha$ is set such that the weight update steps are small enough that the iterative method settles in a minimum."
   ]
  },
  {
   "cell_type": "markdown",
   "metadata": {},
   "source": [
    "## Losses in PyTorch\n",
    "\n",
    "Let's start by seeing how we calculate the loss with PyTorch. Through the `nn` module, PyTorch provides losses such as the cross-entropy loss (`nn.CrossEntropyLoss`). You'll usually see the loss assigned to `criterion`. As noted in the last part, with a classification problem such as MNIST, we're using the softmax function to predict class probabilities. With a softmax output, you want to use cross-entropy as the loss. To actually calculate the loss, you first define the criterion then pass in the output of your network and the correct labels.\n",
    "\n",
    "Something really important to note here. Looking at [the documentation for `nn.CrossEntropyLoss`](https://pytorch.org/docs/stable/nn.html#torch.nn.CrossEntropyLoss),\n",
    "\n",
    "> This criterion combines `nn.LogSoftmax()` and `nn.NLLLoss()` in one single class.\n",
    ">\n",
    "> The input is expected to contain scores for each class.\n",
    "\n",
    "This means we need to pass in the raw output of our network into the loss, not the output of the softmax function. This raw output is usually called the *logits* or *scores*. We use the logits because softmax gives you probabilities which will often be very close to zero or one but floating-point numbers can't accurately represent values near zero or one ([read more here](https://docs.python.org/3/tutorial/floatingpoint.html)). It's usually best to avoid doing calculations with probabilities, typically we use log-probabilities."
   ]
  },
  {
   "cell_type": "code",
   "execution_count": 2,
   "metadata": {},
   "outputs": [],
   "source": [
    "import torch\n",
    "from torch import nn\n",
    "import torch.nn.functional as F\n",
    "from torchvision import datasets, transforms\n",
    "\n",
    "# Define a transform to normalize the data\n",
    "transform = transforms.Compose([transforms.ToTensor(),\n",
    "                                transforms.Normalize((0.5,), (0.5,)),\n",
    "                              ])\n",
    "# Download and load the training data\n",
    "trainset = datasets.MNIST('~/.pytorch/MNIST_data/', download=True, train=True, transform=transform)\n",
    "trainloader = torch.utils.data.DataLoader(trainset, batch_size=64, shuffle=True)"
   ]
  },
  {
   "cell_type": "markdown",
   "metadata": {},
   "source": [
    "### Note\n",
    "If you haven't seen `nn.Sequential` yet, please finish the end of the Part 2 notebook."
   ]
  },
  {
   "cell_type": "code",
   "execution_count": 3,
   "metadata": {},
   "outputs": [
    {
     "data": {
      "text/plain": [
       "tensor([[ 3.8089e-02,  4.9347e-02,  8.1959e-02, -1.3620e-01, -1.6567e-01,\n",
       "         -5.0707e-02, -1.1600e-01, -2.0383e-01, -9.5748e-02,  7.6112e-02],\n",
       "        [-1.4730e-02,  6.7132e-02,  1.0032e-01, -1.7475e-01, -1.0249e-01,\n",
       "         -7.2828e-02, -1.2884e-01, -1.7754e-01, -1.7177e-01,  7.8137e-02],\n",
       "        [ 4.9263e-02,  8.0506e-02,  8.1757e-02, -1.2740e-01, -1.1699e-01,\n",
       "          6.0609e-02, -1.6776e-01, -1.7553e-01, -1.0757e-01,  6.1195e-02],\n",
       "        [ 5.8782e-03, -7.2672e-03,  8.8419e-02, -1.2279e-01, -7.5789e-02,\n",
       "         -9.2680e-02, -1.0332e-01, -3.0152e-01, -9.9238e-02,  1.0309e-01],\n",
       "        [-2.6358e-02, -1.4173e-02,  1.5809e-02, -6.5020e-02, -1.0214e-01,\n",
       "         -1.1137e-03, -1.2018e-01, -2.6799e-01, -7.4058e-02,  1.0881e-01],\n",
       "        [-3.1834e-02, -1.1617e-02,  1.1370e-01, -8.1147e-02, -9.1577e-02,\n",
       "         -2.8656e-02, -1.5585e-01, -2.8276e-01, -1.1646e-01,  9.0789e-02],\n",
       "        [ 1.2341e-02, -9.1960e-03,  4.2305e-02, -8.5877e-02, -5.6834e-02,\n",
       "          4.0552e-02, -1.6437e-01, -2.4177e-01, -1.1583e-01,  8.5329e-02],\n",
       "        [-2.3050e-02,  8.4313e-03,  5.0552e-02, -8.0142e-02, -9.0440e-02,\n",
       "         -3.0456e-02, -1.1843e-01, -2.4732e-01, -3.0977e-02,  8.8400e-02],\n",
       "        [ 1.8166e-02,  7.9592e-02,  5.2959e-02, -1.1698e-01, -1.1552e-01,\n",
       "         -3.3264e-02, -1.5556e-01, -2.3780e-01, -1.0317e-01,  6.3532e-02],\n",
       "        [ 3.6087e-02,  1.8119e-02,  5.3246e-02, -1.2492e-01, -1.0439e-01,\n",
       "         -6.5878e-03, -2.0912e-01, -2.9490e-01, -1.8445e-01,  8.9914e-02],\n",
       "        [-1.0131e-01,  4.8494e-02,  6.8275e-02, -1.1005e-01, -8.5425e-02,\n",
       "         -4.9478e-02, -1.6031e-01, -2.7840e-01, -1.0337e-01,  1.3197e-01],\n",
       "        [ 2.8146e-02,  3.4384e-02,  9.1557e-02, -1.4641e-01, -1.4265e-01,\n",
       "         -6.2847e-02, -1.3682e-01, -3.3474e-01, -7.2813e-02,  1.4416e-01],\n",
       "        [ 5.7089e-02,  5.5772e-02,  4.0652e-02, -1.3276e-01, -1.2121e-01,\n",
       "         -9.7131e-02, -1.8359e-01, -2.5575e-01, -1.7410e-01,  5.8672e-02],\n",
       "        [ 7.4975e-03,  5.5132e-02,  8.1926e-02, -8.3594e-02, -1.1273e-01,\n",
       "         -1.9003e-02, -1.4277e-01, -2.6201e-01, -4.2427e-02,  1.9588e-01],\n",
       "        [-1.6976e-02,  2.8401e-02,  5.2957e-02, -1.3544e-01, -1.2472e-01,\n",
       "         -7.5138e-02, -1.7614e-01, -2.6564e-01, -9.8406e-02,  1.2803e-01],\n",
       "        [-7.3532e-02,  3.7391e-03,  5.3595e-02, -1.3150e-01, -1.0621e-01,\n",
       "         -4.5431e-02, -1.1375e-01, -2.4229e-01, -1.0409e-01,  1.0062e-01],\n",
       "        [-2.5136e-02,  2.4523e-02,  2.8098e-02, -1.5875e-01, -1.6292e-01,\n",
       "         -1.1640e-01, -1.7306e-01, -2.7215e-01, -1.0181e-01,  1.1675e-01],\n",
       "        [-5.6984e-02,  1.5124e-02,  1.3925e-02, -1.2523e-01, -1.1962e-01,\n",
       "          2.7797e-02, -1.5860e-01, -2.4815e-01, -9.0314e-02,  6.1294e-02],\n",
       "        [-3.2877e-04,  1.0813e-02,  2.9601e-02, -6.5357e-02, -7.9471e-02,\n",
       "         -6.7696e-04, -1.3778e-01, -2.2630e-01, -1.1827e-01,  9.2473e-02],\n",
       "        [ 1.8118e-02,  6.7635e-02, -9.5944e-03, -1.7552e-01, -8.1397e-02,\n",
       "         -7.0202e-02, -1.3591e-01, -2.8526e-01, -9.4068e-02,  8.1225e-02],\n",
       "        [-1.3066e-02,  4.9231e-02,  5.0406e-02, -1.5555e-01, -1.2785e-01,\n",
       "         -4.9194e-02, -1.6507e-01, -2.2987e-01, -1.4449e-01,  9.0856e-02],\n",
       "        [-8.1874e-02,  8.1136e-03,  4.1569e-02, -9.2867e-02, -2.3147e-02,\n",
       "          9.8555e-03, -1.7141e-01, -1.9705e-01, -6.7022e-02,  8.5196e-02],\n",
       "        [ 4.4016e-03,  3.2265e-02,  3.2121e-02, -1.3555e-01, -6.1149e-02,\n",
       "         -1.1499e-01, -1.3474e-01, -2.7793e-01, -1.6726e-02,  8.1695e-02],\n",
       "        [-4.8942e-02,  4.2582e-03, -3.8333e-02, -1.1943e-01, -6.7619e-02,\n",
       "         -4.2267e-02, -1.7620e-01, -2.4956e-01, -1.0059e-01,  9.9505e-02],\n",
       "        [-1.3906e-02,  7.2372e-02,  4.1176e-02, -1.6904e-01, -1.0231e-01,\n",
       "         -2.0632e-02, -1.6350e-01, -2.0154e-01, -9.8236e-02,  1.0731e-01],\n",
       "        [-9.2185e-02, -6.4381e-03,  2.8570e-02, -8.7232e-02, -1.1608e-01,\n",
       "         -3.9347e-02, -1.0420e-01, -2.2245e-01, -5.3346e-02,  8.2276e-02],\n",
       "        [ 2.6648e-02,  7.8439e-02,  3.2226e-02, -1.6995e-01, -1.5496e-01,\n",
       "         -3.7753e-02, -1.4121e-01, -2.9404e-01, -1.2292e-01,  8.6148e-02],\n",
       "        [-4.1532e-02,  2.0337e-02,  3.7515e-02, -1.1791e-01, -1.3846e-01,\n",
       "         -7.4111e-02, -1.7381e-01, -2.9117e-01, -1.0417e-01,  1.1135e-01],\n",
       "        [-3.9735e-02,  4.3503e-02, -1.3579e-02, -5.8322e-02, -8.7553e-02,\n",
       "         -2.1920e-02, -1.0268e-01, -2.4515e-01, -5.5538e-02,  7.1273e-02],\n",
       "        [-2.2667e-02,  3.7962e-02,  2.7759e-02, -1.5091e-01, -1.2910e-01,\n",
       "         -1.0743e-01, -1.6279e-01, -2.6512e-01, -7.7907e-02,  1.1281e-01],\n",
       "        [-1.9170e-02, -4.8713e-02,  7.6900e-02, -5.4452e-02, -4.3242e-02,\n",
       "          1.8686e-02, -1.8369e-01, -2.6475e-01, -3.5174e-02,  1.2568e-01],\n",
       "        [ 2.5294e-02,  7.8489e-02,  6.8634e-02, -1.0279e-01, -1.7990e-01,\n",
       "          1.2324e-01, -1.8477e-01, -8.4933e-02, -1.6438e-01,  1.0470e-01],\n",
       "        [ 2.3713e-02,  7.2222e-02,  8.9380e-02, -1.1783e-01, -1.3703e-01,\n",
       "         -2.5814e-02, -1.5693e-01, -2.5936e-01, -1.2003e-01,  6.3301e-02],\n",
       "        [-3.1076e-02,  2.5337e-02, -2.9187e-02, -1.7784e-01, -1.3167e-01,\n",
       "         -6.9886e-02, -1.6864e-01, -2.5519e-01, -8.9542e-02,  1.0689e-01],\n",
       "        [-4.8965e-02,  3.2131e-02, -1.4242e-02, -1.3522e-01, -5.1944e-02,\n",
       "          3.0375e-02, -1.5069e-01, -2.1741e-01, -7.5240e-02,  1.0638e-01],\n",
       "        [-5.9685e-02,  4.9052e-02,  7.9335e-03, -1.0481e-01, -9.9963e-02,\n",
       "         -3.2737e-02, -1.7341e-01, -2.7301e-01, -7.4321e-02,  7.1920e-02],\n",
       "        [-2.1539e-02,  7.6416e-03,  1.0012e-01, -9.3599e-02, -1.3714e-01,\n",
       "         -5.2198e-02, -1.1638e-01, -2.6295e-01, -5.0554e-02,  8.9851e-02],\n",
       "        [-1.6778e-02,  4.7452e-02,  4.4756e-02, -1.8615e-01, -9.9100e-02,\n",
       "         -8.6122e-02, -1.0062e-01, -1.8470e-01, -5.1983e-02,  3.6837e-02],\n",
       "        [ 6.1063e-03,  9.1424e-02,  6.5681e-02, -1.6795e-01, -1.4451e-01,\n",
       "         -6.8008e-02, -1.2973e-01, -1.8798e-01, -1.3320e-01,  5.4707e-02],\n",
       "        [-3.9224e-02, -1.2896e-02,  7.9003e-02, -1.2106e-01, -9.9208e-02,\n",
       "         -9.0200e-02, -1.0969e-01, -2.6741e-01, -1.2475e-01,  9.4013e-02],\n",
       "        [-9.8585e-04,  8.5521e-02,  1.9403e-02, -1.1123e-01, -1.6308e-01,\n",
       "         -1.1958e-02, -1.5985e-01, -2.3505e-01, -7.8121e-02,  8.4428e-02],\n",
       "        [-1.7907e-03,  4.4688e-02,  1.0296e-01, -8.5209e-02, -1.0334e-01,\n",
       "          6.8887e-02, -1.6574e-01, -2.2842e-01, -1.3419e-01,  3.6467e-02],\n",
       "        [-2.1786e-02,  5.3786e-03, -1.8483e-03, -1.1868e-01, -9.7223e-02,\n",
       "         -9.7332e-02, -1.7688e-01, -2.6680e-01, -6.6508e-02,  8.9750e-02],\n",
       "        [-2.8465e-02,  4.4609e-02, -9.9561e-03, -1.5463e-01, -1.1840e-01,\n",
       "          3.4338e-02, -1.2465e-01, -1.8645e-01, -1.0943e-01,  7.6539e-02],\n",
       "        [-5.7981e-02,  1.3410e-02,  1.2775e-02, -1.0110e-01, -1.3356e-01,\n",
       "         -6.6662e-02, -1.4114e-01, -2.8062e-01, -6.2616e-02,  1.0775e-01],\n",
       "        [-3.0943e-02,  7.2425e-02, -6.6646e-02, -1.4471e-01, -1.1930e-01,\n",
       "          1.5010e-02, -1.5818e-01, -2.0373e-01, -7.1092e-02,  7.3845e-02],\n",
       "        [-2.7433e-02, -2.3406e-02,  8.1663e-02, -3.5016e-02, -5.1218e-02,\n",
       "          9.3876e-02, -1.3343e-01, -2.4914e-01, -5.8464e-02,  1.7554e-01],\n",
       "        [-1.4189e-02,  1.2043e-02,  6.2194e-02, -1.4371e-01, -1.3697e-01,\n",
       "         -7.9133e-02, -1.7675e-01, -2.9523e-01, -1.2566e-01,  1.1861e-01],\n",
       "        [-3.1214e-02, -4.8543e-02,  1.0703e-01, -7.9096e-02, -5.2622e-02,\n",
       "         -2.0341e-02, -1.8133e-01, -2.8511e-01, -5.9098e-02,  1.3868e-01],\n",
       "        [-2.7883e-02,  7.2213e-02,  5.2730e-02, -1.6280e-01, -1.3126e-01,\n",
       "         -7.0153e-02, -1.3336e-01, -2.6458e-01, -1.0866e-01,  1.0926e-01],\n",
       "        [-6.5779e-03, -5.6193e-03, -7.1402e-03, -8.7076e-02, -6.8958e-02,\n",
       "          5.9707e-02, -1.9119e-01, -2.8221e-01, -1.6112e-01,  1.3884e-01],\n",
       "        [-1.1678e-02,  1.0220e-01,  2.2921e-02, -1.6428e-01, -1.4422e-01,\n",
       "          6.5123e-02, -1.6567e-01, -1.5550e-01, -4.0689e-02,  6.9233e-02],\n",
       "        [-2.0523e-02,  5.6605e-03,  3.9763e-02, -1.3707e-01, -1.6251e-01,\n",
       "         -9.4363e-02, -1.3424e-01, -2.8358e-01, -1.3666e-01,  1.0822e-01],\n",
       "        [-3.6276e-02,  2.7336e-02,  6.9802e-02, -1.5302e-01, -9.6762e-02,\n",
       "         -6.5096e-02, -1.5498e-01, -2.4614e-01, -1.5849e-01,  9.9986e-02],\n",
       "        [-2.7910e-02,  1.2791e-02,  2.6703e-02, -6.2724e-02, -1.1402e-01,\n",
       "         -6.7844e-02, -2.0785e-01, -2.9422e-01, -1.2113e-01,  1.2113e-01],\n",
       "        [-9.1500e-03,  6.4070e-02, -3.4578e-02, -1.5952e-01, -1.4213e-01,\n",
       "         -5.5692e-02, -1.4186e-01, -3.0597e-01, -1.0996e-01,  1.3244e-01],\n",
       "        [-4.8716e-02, -4.4243e-02, -1.4311e-02, -1.4006e-01, -5.6299e-02,\n",
       "         -3.8113e-02, -1.9908e-01, -2.4375e-01, -9.7735e-02,  1.2503e-01],\n",
       "        [-8.1331e-03,  1.6124e-02,  2.7657e-02, -1.3069e-01, -1.2975e-01,\n",
       "         -1.0895e-02, -1.4378e-01, -2.8302e-01, -7.6104e-02,  1.2356e-01],\n",
       "        [-3.5964e-02,  5.9886e-02, -2.8200e-02, -8.6303e-02, -1.8311e-01,\n",
       "         -1.0421e-01, -1.7181e-01, -4.0750e-01, -1.3379e-01,  1.3817e-01],\n",
       "        [-3.5239e-02,  9.7264e-02,  1.5292e-01, -6.4086e-02, -1.1289e-01,\n",
       "         -1.2999e-02, -1.7912e-01, -2.0673e-01, -8.8716e-02,  8.2684e-02],\n",
       "        [-2.3714e-02, -3.1638e-02,  8.7416e-02, -1.3341e-01, -1.2314e-01,\n",
       "         -8.1952e-02, -1.7558e-01, -2.9733e-01, -1.2494e-01,  1.2261e-01],\n",
       "        [-6.5229e-03, -2.1677e-02,  6.3450e-02, -1.3452e-01, -8.7760e-02,\n",
       "         -7.2962e-02, -1.4481e-01, -2.8127e-01, -8.6925e-02,  7.8574e-02],\n",
       "        [-2.5933e-02,  8.3977e-04,  5.2166e-02, -1.3665e-01, -1.1974e-01,\n",
       "         -4.5415e-02, -1.5070e-01, -2.8235e-01, -1.1325e-01,  1.1620e-01],\n",
       "        [ 1.9085e-02,  1.8946e-02,  3.6985e-02, -1.3191e-01, -7.8013e-02,\n",
       "         -5.4734e-02, -1.6793e-01, -2.3491e-01, -1.3751e-01,  6.2962e-02]],\n",
       "       grad_fn=<AddmmBackward>)"
      ]
     },
     "execution_count": 3,
     "metadata": {},
     "output_type": "execute_result"
    }
   ],
   "source": [
    "# Build a feed-forward network\n",
    "model = nn.Sequential(nn.Linear(784, 128),\n",
    "                      nn.ReLU(),\n",
    "                      nn.Linear(128, 64),\n",
    "                      nn.ReLU(),\n",
    "                      nn.Linear(64, 10))\n",
    "\n",
    "# Define the loss\n",
    "criterion = nn.CrossEntropyLoss()\n",
    "\n",
    "# Get our data\n",
    "images, labels = next(iter(trainloader))\n",
    "# Flatten images\n",
    "images = images.view(images.shape[0], -1)\n",
    "\n",
    "# Forward pass, get our logits\n",
    "logits = model(images)\n",
    "logits"
   ]
  },
  {
   "cell_type": "code",
   "execution_count": 4,
   "metadata": {},
   "outputs": [
    {
     "name": "stdout",
     "output_type": "stream",
     "text": [
      "tensor(2.2919, grad_fn=<NllLossBackward>)\n"
     ]
    }
   ],
   "source": [
    "# Calculate the loss with the logits and the labels\n",
    "loss = criterion(logits, labels)\n",
    "\n",
    "print(loss)"
   ]
  },
  {
   "cell_type": "markdown",
   "metadata": {},
   "source": [
    "In my experience it's more convenient to build the model with a log-softmax output using `nn.LogSoftmax` or `F.log_softmax` ([documentation](https://pytorch.org/docs/stable/nn.html#torch.nn.LogSoftmax)). Then you can get the actual probabilities by taking the exponential `torch.exp(output)`. With a log-softmax output, you want to use the negative log likelihood loss, `nn.NLLLoss` ([documentation](https://pytorch.org/docs/stable/nn.html#torch.nn.NLLLoss)).\n",
    "\n",
    ">**Exercise:** Build a model that returns the log-softmax as the output and calculate the loss using the negative log likelihood loss. Note that for `nn.LogSoftmax` and `F.log_softmax` you'll need to set the `dim` keyword argument appropriately. `dim=0` calculates softmax across the rows, so each column sums to 1, while `dim=1` calculates across the columns so each row sums to 1. Think about what you want the output to be and choose `dim` appropriately."
   ]
  },
  {
   "cell_type": "code",
   "execution_count": 5,
   "metadata": {},
   "outputs": [],
   "source": [
    "from collections import OrderedDict\n",
    "# TODO: Build a feed-forward network\n",
    "model2 = nn.Sequential(OrderedDict([\n",
    "    ('fc1', nn.Linear(784, 128)),\n",
    "    ('relu', nn.ReLU()),\n",
    "    ('fc2', nn.Linear(128, 64)),\n",
    "    ('relu', nn.ReLU()),\n",
    "    ('fc3', nn.Linear(64, 10)),\n",
    "    ('logSoftmax', nn.LogSoftmax(dim=1))\n",
    "#     ('NLL')\n",
    "]))"
   ]
  },
  {
   "cell_type": "code",
   "execution_count": 6,
   "metadata": {},
   "outputs": [
    {
     "name": "stdout",
     "output_type": "stream",
     "text": [
      "tensor(0.0672, grad_fn=<NllLossBackward>)\n"
     ]
    }
   ],
   "source": [
    "# TODO: Define the loss\n",
    "criterion = nn.NLLLoss()\n",
    "\n",
    "### Run this to check your work\n",
    "# Get our data\n",
    "images, labels = next(iter(trainloader))\n",
    "# Flatten images\n",
    "images = images.view(images.shape[0], -1)\n",
    "\n",
    "# Forward pass, get our logits\n",
    "logits = model(images)\n",
    "# Calculate the loss with the logits and the labels\n",
    "loss = criterion(logits, labels)\n",
    "\n",
    "print(loss)"
   ]
  },
  {
   "cell_type": "markdown",
   "metadata": {},
   "source": [
    "## Autograd\n",
    "\n",
    "Now that we know how to calculate a loss, how do we use it to perform backpropagation? Torch provides a module, `autograd`, for automatically calculating the gradients of tensors. We can use it to calculate the gradients of all our parameters with respect to the loss. Autograd works by keeping track of operations performed on tensors, then going backwards through those operations, calculating gradients along the way. To make sure PyTorch keeps track of operations on a tensor and calculates the gradients, you need to set `requires_grad = True` on a tensor. You can do this at creation with the `requires_grad` keyword, or at any time with `x.requires_grad_(True)`.\n",
    "\n",
    "You can turn off gradients for a block of code with the `torch.no_grad()` content:\n",
    "```python\n",
    "x = torch.zeros(1, requires_grad=True)\n",
    ">>> with torch.no_grad():\n",
    "...     y = x * 2\n",
    ">>> y.requires_grad\n",
    "False\n",
    "```\n",
    "\n",
    "Also, you can turn on or off gradients altogether with `torch.set_grad_enabled(True|False)`.\n",
    "\n",
    "The gradients are computed with respect to some variable `z` with `z.backward()`. This does a backward pass through the operations that created `z`."
   ]
  },
  {
   "cell_type": "code",
   "execution_count": 25,
   "metadata": {},
   "outputs": [
    {
     "name": "stdout",
     "output_type": "stream",
     "text": [
      "tensor([[ 0.2433, -0.0737],\n",
      "        [-0.5608, -0.0851]], requires_grad=True)\n"
     ]
    }
   ],
   "source": [
    "x = torch.randn(2,2, requires_grad=True)\n",
    "print(x)"
   ]
  },
  {
   "cell_type": "code",
   "execution_count": 26,
   "metadata": {},
   "outputs": [
    {
     "name": "stdout",
     "output_type": "stream",
     "text": [
      "tensor([[0.0592, 0.0054],\n",
      "        [0.3145, 0.0072]], grad_fn=<PowBackward0>)\n"
     ]
    }
   ],
   "source": [
    "y = x**2\n",
    "print(y)"
   ]
  },
  {
   "cell_type": "markdown",
   "metadata": {},
   "source": [
    "Below we can see the operation that created `y`, a power operation `PowBackward0`."
   ]
  },
  {
   "cell_type": "code",
   "execution_count": 27,
   "metadata": {},
   "outputs": [
    {
     "name": "stdout",
     "output_type": "stream",
     "text": [
      "<PowBackward0 object at 0x7f63c6ace710>\n"
     ]
    }
   ],
   "source": [
    "## grad_fn shows the function that generated this variable\n",
    "print(y.grad_fn)"
   ]
  },
  {
   "cell_type": "markdown",
   "metadata": {},
   "source": [
    "The autograd module keeps track of these operations and knows how to calculate the gradient for each one. In this way, it's able to calculate the gradients for a chain of operations, with respect to any one tensor. Let's reduce the tensor `y` to a scalar value, the mean."
   ]
  },
  {
   "cell_type": "code",
   "execution_count": 32,
   "metadata": {},
   "outputs": [
    {
     "name": "stdout",
     "output_type": "stream",
     "text": [
      "tensor(0.0072, grad_fn=<MedianBackward0>)\n"
     ]
    }
   ],
   "source": [
    "z = y.mean()\n",
    "print(z)"
   ]
  },
  {
   "cell_type": "markdown",
   "metadata": {},
   "source": [
    "You can check the gradients for `x` and `y` but they are empty currently."
   ]
  },
  {
   "cell_type": "code",
   "execution_count": 33,
   "metadata": {},
   "outputs": [
    {
     "name": "stdout",
     "output_type": "stream",
     "text": [
      "None\n"
     ]
    }
   ],
   "source": [
    "print(x.grad)"
   ]
  },
  {
   "cell_type": "markdown",
   "metadata": {},
   "source": [
    "To calculate the gradients, you need to run the `.backward` method on a Variable, `z` for example. This will calculate the gradient for `z` with respect to `x`\n",
    "\n",
    "$$\n",
    "\\frac{\\partial z}{\\partial x} = \\frac{\\partial}{\\partial x}\\left[\\frac{1}{n}\\sum_i^n x_i^2\\right] = \\frac{x}{2}\n",
    "$$"
   ]
  },
  {
   "cell_type": "code",
   "execution_count": 34,
   "metadata": {},
   "outputs": [
    {
     "name": "stdout",
     "output_type": "stream",
     "text": [
      "tensor([[ 0.0000, -0.0000],\n",
      "        [-0.0000, -0.1703]])\n",
      "tensor([[ 0.1217, -0.0369],\n",
      "        [-0.2804, -0.0426]], grad_fn=<DivBackward0>)\n",
      "None\n"
     ]
    }
   ],
   "source": [
    "z.backward()\n",
    "print(x.grad)\n",
    "print(x/2)\n",
    "print(y.grad)"
   ]
  },
  {
   "cell_type": "markdown",
   "metadata": {},
   "source": [
    "These gradients calculations are particularly useful for neural networks. For training we need the gradients of the cost with respect to the weights. With PyTorch, we run data forward through the network to calculate the loss, then, go backwards to calculate the gradients with respect to the loss. Once we have the gradients we can make a gradient descent step. "
   ]
  },
  {
   "cell_type": "markdown",
   "metadata": {},
   "source": [
    "## Loss and Autograd together\n",
    "\n",
    "When we create a network with PyTorch, all of the parameters are initialized with `requires_grad = True`. This means that when we calculate the loss and call `loss.backward()`, the gradients for the parameters are calculated. These gradients are used to update the weights with gradient descent. Below you can see an example of calculating the gradients using a backwards pass."
   ]
  },
  {
   "cell_type": "code",
   "execution_count": null,
   "metadata": {},
   "outputs": [],
   "source": [
    "# Build a feed-forward network\n",
    "model = nn.Sequential(nn.Linear(784, 128),\n",
    "                      nn.ReLU(),\n",
    "                      nn.Linear(128, 64),\n",
    "                      nn.ReLU(),\n",
    "                      nn.Linear(64, 10),\n",
    "                      nn.LogSoftmax(dim=1))\n",
    "\n",
    "criterion = nn.NLLLoss()\n",
    "images, labels = next(iter(trainloader))\n",
    "images = images.view(images.shape[0], -1)\n",
    "\n",
    "logits = model(images)\n",
    "loss = criterion(logits, labels)"
   ]
  },
  {
   "cell_type": "code",
   "execution_count": null,
   "metadata": {},
   "outputs": [],
   "source": [
    "print('Before backward pass: \\n', model[0].weight.grad)\n",
    "\n",
    "loss.backward()\n",
    "\n",
    "print('After backward pass: \\n', model[0].weight.grad)"
   ]
  },
  {
   "cell_type": "markdown",
   "metadata": {},
   "source": [
    "## Training the network!\n",
    "\n",
    "There's one last piece we need to start training, an optimizer that we'll use to update the weights with the gradients. We get these from PyTorch's [`optim` package](https://pytorch.org/docs/stable/optim.html). For example we can use stochastic gradient descent with `optim.SGD`. You can see how to define an optimizer below."
   ]
  },
  {
   "cell_type": "code",
   "execution_count": 35,
   "metadata": {},
   "outputs": [],
   "source": [
    "from torch import optim\n",
    "# pydoc optim"
   ]
  },
  {
   "cell_type": "code",
   "execution_count": 36,
   "metadata": {},
   "outputs": [],
   "source": [
    "# Optimizers require the parameters to optimize and a learning rate\n",
    "optimizer = optim.SGD(model.parameters(), lr=0.01)"
   ]
  },
  {
   "cell_type": "markdown",
   "metadata": {},
   "source": [
    "Now we know how to use all the individual parts so it's time to see how they work together. Let's consider just one learning step before looping through all the data. The general process with PyTorch:\n",
    "\n",
    "* Make a forward pass through the network \n",
    "* Use the network output to calculate the loss\n",
    "* Perform a backward pass through the network with `loss.backward()` to calculate the gradients\n",
    "* Take a step with the optimizer to update the weights\n",
    "\n",
    "Below I'll go through one training step and print out the weights and gradients so you can see how it changes. Note that I have a line of code `optimizer.zero_grad()`. When you do multiple backwards passes with the same parameters, the gradients are accumulated. This means that you need to zero the gradients on each training pass or you'll retain gradients from previous training batches."
   ]
  },
  {
   "cell_type": "code",
   "execution_count": 37,
   "metadata": {},
   "outputs": [
    {
     "name": "stdout",
     "output_type": "stream",
     "text": [
      "Initial weights -  Parameter containing:\n",
      "tensor([[-2.9631e-02, -9.5745e-03,  3.1014e-02,  ...,  1.5099e-02,\n",
      "         -3.4018e-02,  3.3022e-02],\n",
      "        [-3.1711e-02, -2.6025e-02,  2.5625e-02,  ...,  2.0492e-02,\n",
      "         -2.6891e-02,  2.6972e-02],\n",
      "        [-3.4697e-02,  2.1327e-02,  2.3786e-02,  ..., -2.5234e-02,\n",
      "          2.0213e-02, -1.2876e-02],\n",
      "        ...,\n",
      "        [-1.0942e-02, -4.8101e-05, -1.7545e-02,  ...,  3.3102e-02,\n",
      "          1.0484e-02, -1.0505e-02],\n",
      "        [-3.3538e-02,  7.3142e-03,  3.3576e-02,  ..., -1.8574e-02,\n",
      "          1.4198e-02, -2.7475e-02],\n",
      "        [-3.0237e-02, -2.7951e-02, -2.4179e-02,  ...,  1.1628e-02,\n",
      "         -4.0672e-03,  9.0946e-03]], requires_grad=True)\n",
      "Gradient - tensor([[-0.0127, -0.0127, -0.0127,  ..., -0.0127, -0.0127, -0.0127],\n",
      "        [ 0.0032,  0.0032,  0.0032,  ...,  0.0032,  0.0032,  0.0032],\n",
      "        [-0.0045, -0.0045, -0.0045,  ..., -0.0045, -0.0045, -0.0045],\n",
      "        ...,\n",
      "        [-0.0078, -0.0078, -0.0078,  ..., -0.0078, -0.0078, -0.0078],\n",
      "        [-0.0007, -0.0007, -0.0007,  ..., -0.0007, -0.0007, -0.0007],\n",
      "        [ 0.0060,  0.0060,  0.0060,  ...,  0.0060,  0.0060,  0.0060]])\n"
     ]
    }
   ],
   "source": [
    "print('Initial weights - ', model[0].weight)\n",
    "\n",
    "images, labels = next(iter(trainloader))\n",
    "images.resize_(64, 784)\n",
    "\n",
    "# Clear the gradients, do this because gradients are accumulated\n",
    "optimizer.zero_grad()\n",
    "\n",
    "# Forward pass, then backward pass, then update weights\n",
    "output = model(images)\n",
    "loss = criterion(output, labels)\n",
    "loss.backward()\n",
    "print('Gradient -', model[0].weight.grad)"
   ]
  },
  {
   "cell_type": "code",
   "execution_count": 38,
   "metadata": {},
   "outputs": [
    {
     "name": "stdout",
     "output_type": "stream",
     "text": [
      "Updated weights -  Parameter containing:\n",
      "tensor([[-2.9504e-02, -9.4472e-03,  3.1142e-02,  ...,  1.5226e-02,\n",
      "         -3.3891e-02,  3.3149e-02],\n",
      "        [-3.1744e-02, -2.6058e-02,  2.5592e-02,  ...,  2.0460e-02,\n",
      "         -2.6923e-02,  2.6940e-02],\n",
      "        [-3.4652e-02,  2.1372e-02,  2.3831e-02,  ..., -2.5190e-02,\n",
      "          2.0258e-02, -1.2831e-02],\n",
      "        ...,\n",
      "        [-1.0863e-02,  3.0180e-05, -1.7467e-02,  ...,  3.3181e-02,\n",
      "          1.0562e-02, -1.0426e-02],\n",
      "        [-3.3532e-02,  7.3209e-03,  3.3583e-02,  ..., -1.8568e-02,\n",
      "          1.4205e-02, -2.7468e-02],\n",
      "        [-3.0297e-02, -2.8011e-02, -2.4239e-02,  ...,  1.1568e-02,\n",
      "         -4.1271e-03,  9.0346e-03]], requires_grad=True)\n"
     ]
    }
   ],
   "source": [
    "# Take an update step and few the new weights\n",
    "optimizer.step()\n",
    "print('Updated weights - ', model[0].weight)"
   ]
  },
  {
   "cell_type": "markdown",
   "metadata": {},
   "source": [
    "### Training for real\n",
    "\n",
    "Now we'll put this algorithm into a loop so we can go through all the images. Some nomenclature, one pass through the entire dataset is called an *epoch*. So here we're going to loop through `trainloader` to get our training batches. For each batch, we'll doing a training pass where we calculate the loss, do a backwards pass, and update the weights.\n",
    "\n",
    ">**Exercise:** Implement the training pass for our network. If you implemented it correctly, you should see the training loss drop with each epoch."
   ]
  },
  {
   "cell_type": "code",
   "execution_count": null,
   "metadata": {},
   "outputs": [],
   "source": [
    "## Your solution here\n",
    "\n",
    "model = nn.Sequential(nn.Linear(784, 128),\n",
    "                      nn.ReLU(),\n",
    "                      nn.Linear(128, 64),\n",
    "                      nn.ReLU(),\n",
    "                      nn.Linear(64, 10),\n",
    "                      nn.LogSoftmax(dim=1))\n",
    "\n",
    "criterion = nn.NLLLoss()\n",
    "optimizer = optim.SGD(model.parameters(), lr=0.003)\n",
    "\n",
    "epochs = 5\n",
    "for e in range(epochs):\n",
    "    running_loss = 0\n",
    "    for images, labels in trainloader:\n",
    "        # Flatten MNIST images into a 784 long vector\n",
    "        images = images.view(images.shape[0], -1)\n",
    "    \n",
    "        # TODO: Training pass\n",
    "        \n",
    "        loss = \n",
    "        \n",
    "        running_loss += loss.item()\n",
    "    else:\n",
    "        print(f\"Training loss: {running_loss/len(trainloader)}\")"
   ]
  },
  {
   "cell_type": "markdown",
   "metadata": {},
   "source": [
    "With the network trained, we can check out it's predictions."
   ]
  },
  {
   "cell_type": "code",
   "execution_count": null,
   "metadata": {},
   "outputs": [],
   "source": [
    "%matplotlib inline\n",
    "import helper\n",
    "\n",
    "images, labels = next(iter(trainloader))\n",
    "\n",
    "img = images[0].view(1, 784)\n",
    "# Turn off gradients to speed up this part\n",
    "with torch.no_grad():\n",
    "    logps = model(img)\n",
    "\n",
    "# Output of the network are log-probabilities, need to take exponential for probabilities\n",
    "ps = torch.exp(logps)\n",
    "helper.view_classify(img.view(1, 28, 28), ps)"
   ]
  },
  {
   "cell_type": "markdown",
   "metadata": {},
   "source": [
    "Now our network is brilliant. It can accurately predict the digits in our images. Next up you'll write the code for training a neural network on a more complex dataset."
   ]
  }
 ],
 "metadata": {
  "kernelspec": {
   "display_name": "Python 3",
   "language": "python",
   "name": "python3"
  },
  "language_info": {
   "codemirror_mode": {
    "name": "ipython",
    "version": 3
   },
   "file_extension": ".py",
   "mimetype": "text/x-python",
   "name": "python",
   "nbconvert_exporter": "python",
   "pygments_lexer": "ipython3",
   "version": "3.7.4"
  }
 },
 "nbformat": 4,
 "nbformat_minor": 2
}
