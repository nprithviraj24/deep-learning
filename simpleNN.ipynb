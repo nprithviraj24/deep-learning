{
 "cells": [
  {
   "cell_type": "code",
   "execution_count": 61,
   "metadata": {},
   "outputs": [],
   "source": [
    "import numpy as np\n",
    "\n",
    "class neuralNetwork():    \n",
    "    FCLayers = 0\n",
    "    layerWeights = []\n",
    "    layerBiases = []\n",
    "    softmax = False\n",
    "    softmaxClasses = 0\n",
    "        \n",
    "    def FullyConnectedLayers(self, values):\n",
    "        assert len(values) == self.FCLayers, \"Number of fully connected layers are not the same.\"\n",
    "        self.layerWeights.append([])\n",
    "        for i in range(1, self.FCLayers):            \n",
    "            self.layerWeights.append(np.random.normal(0, 0.1, ([values[i-1], values[i]])))\n",
    "            if self.softmax == False:\n",
    "                self.layerWeights.append(np.random.normal(0, 0.1, (values[i], 1)))\n",
    "                \n",
    "    \n",
    "    def softmaxLayer(self):\n",
    "        previous = self.layerWeights[-1].shape[1]\n",
    "        self.layerWeights.append(np.random.normal(0,0.1,[previous, self.softmaxClasses]))\n",
    "        \n",
    "    \n",
    "    def feedForward(X):\n",
    "        \n",
    "        for i in range(len(self.layerWeights)):\n",
    "            \n",
    "            \n",
    "        \n",
    "\n",
    "\n",
    "        "
   ]
  },
  {
   "cell_type": "code",
   "execution_count": 60,
   "metadata": {},
   "outputs": [
    {
     "name": "stdout",
     "output_type": "stream",
     "text": [
      "listing digits:  ['data', 'target', 'target_names', 'images', 'DESCR']\n",
      "Number of samples:  1797\n",
      "Size of each sample:  64\n",
      "Listing target names:  [0, 1, 2, 3, 4, 5, 6, 7, 8, 9]\n",
      "Image at index 3: \n"
     ]
    },
    {
     "data": {
      "image/png": "[encoded data removed]",
      "text/plain": [
       "<Figure size 288x288 with 1 Axes>"
      ]
     },
     "metadata": {
      "needs_background": "light"
     },
     "output_type": "display_data"
    }
   ],
   "source": [
    "from sklearn.datasets import load_digits\n",
    "digits = load_digits()\n",
    "print(\"listing digits: \", list(digits))\n",
    "print(\"Number of samples: \", digits.data.shape[0])\n",
    "print(\"Size of each sample: \", digits.data.shape[1])\n",
    "print(\"Listing target names: \", list(digits.target_names))\n",
    "\n",
    "y = np.matrix(digits.target).T\n",
    "X = np.matrix(digits.data)\n",
    "print(\"Image at index 3: \")\n",
    "import matplotlib.pyplot as plt \n",
    "plt.matshow(digits.images[3]) \n",
    "plt.show()"
   ]
  },
  {
   "cell_type": "code",
   "execution_count": 63,
   "metadata": {},
   "outputs": [],
   "source": [
    "mnist = neuralNetwork()\n",
    "mnist.__class__.FCLayers = 3\n",
    "mnist.__class__.softmax = True\n",
    "mnist.__class__.softmaxClasses = 10\n",
    "N = 64\n",
    "h1 = 32\n",
    "h2 = 16\n",
    "mnist.FullyConnectedLayers([N,h1,h2])\n",
    "mnist.softmaxLayer()\n",
    "# mnist.layerWeights[-1].shape[1]\n",
    "\n"
   ]
  },
  {
   "cell_type": "code",
   "execution_count": null,
   "metadata": {},
   "outputs": [],
   "source": [
    "\n",
    "# r = np.array([1,0,0])\n",
    "# logits = np.array([0.6,0,0.5])\n",
    "# logits_for_answers = logits[np.arange(len(logits)),r]"
   ]
  }
 ],
 "metadata": {
  "kernelspec": {
   "display_name": "Python 3",
   "language": "python",
   "name": "python3"
  },
  "language_info": {
   "codemirror_mode": {
    "name": "ipython",
    "version": 3
   },
   "file_extension": ".py",
   "mimetype": "text/x-python",
   "name": "python",
   "nbconvert_exporter": "python",
   "pygments_lexer": "ipython3",
   "version": "3.7.4"
  }
 },
 "nbformat": 4,
 "nbformat_minor": 2
}
