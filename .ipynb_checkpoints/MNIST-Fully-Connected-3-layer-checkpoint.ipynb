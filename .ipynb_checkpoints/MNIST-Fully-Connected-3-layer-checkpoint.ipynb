{
 "cells": [
  {
   "cell_type": "code",
   "execution_count": 39,
   "metadata": {},
   "outputs": [
    {
     "name": "stdout",
     "output_type": "stream",
     "text": [
      "Image at index 3: \n"
     ]
    },
    {
     "data": {
      "text/plain": [
       "<Figure size 432x288 with 0 Axes>"
      ]
     },
     "metadata": {},
     "output_type": "display_data"
    },
    {
     "data": {
      "image/png": "[encoded data removed]",
      "text/plain": [
       "<Figure size 288x288 with 1 Axes>"
      ]
     },
     "metadata": {
      "needs_background": "light"
     },
     "output_type": "display_data"
    }
   ],
   "source": [
    "import numpy as np\n",
    "from sklearn.datasets import load_digits\n",
    "\n",
    "digits = load_digits()\n",
    "y = np.matrix(digits.target).T\n",
    "X = np.matrix(digits.data)\n",
    "print(\"Image at index 3: \")\n",
    "import matplotlib.pyplot as plt \n",
    "plt.gray() \n",
    "plt.matshow(digits.images[3]) \n",
    "plt.show()"
   ]
  },
  {
   "cell_type": "code",
   "execution_count": 40,
   "metadata": {},
   "outputs": [
    {
     "name": "stdout",
     "output_type": "stream",
     "text": [
      "Attributes of data:  ['data', 'target', 'target_names', 'images', 'DESCR']\n",
      "Label of an image:  3\n"
     ]
    }
   ],
   "source": [
    "M = X.shape[0]\n",
    "N = X.shape[1]\n",
    "# N\n",
    "# list(digits.data[0].shape)\n",
    "# X\n",
    "attributes = list(digits)\n",
    "print(\"Attributes of data: \", attributes)\n",
    "print(\"Label of an image: \", digits.target[3])"
   ]
  },
  {
   "cell_type": "code",
   "execution_count": 41,
   "metadata": {},
   "outputs": [],
   "source": [
    "# We need to one hot encode the outputs.\n",
    "\n"
   ]
  },
  {
   "cell_type": "code",
   "execution_count": 95,
   "metadata": {},
   "outputs": [
    {
     "name": "stdout",
     "output_type": "stream",
     "text": [
      "3\n"
     ]
    }
   ],
   "source": [
    "# Let's start with a 3-layer network with sigmoid activation functions,\n",
    "# 6 units in layer 1, and 5 units in layer 2.\n",
    "\n",
    "h2 = 16\n",
    "h1 = 32\n",
    "W = [[], np.random.normal(0,0.1,[N,h1]),\n",
    "         np.random.normal(0,0.1,[h1,h2]),\n",
    "         np.random.normal(0,0.1,[h2,10])]\n",
    "b = [[], np.random.normal(0,0.1,[h1,1]),\n",
    "         np.random.normal(0,0.1,[h2,1]),\n",
    "         np.random.normal(0,0.1,[10,1])]\n",
    "L = len(W)-1\n",
    "print(L)\n",
    "# def act(z):\n",
    "#     return z if z>0 else 0\n",
    "# def actder(z):\n",
    "#     return 1 if z>0 else 0\n",
    "def relu(z):\n",
    "    return np.maximum(0,z)\n",
    "def relu_der(z):\n",
    "    x[x<=0] = 0\n",
    "    x[x>0] = 1\n",
    "    return x\n",
    "\n",
    "def softmax(x):\n",
    "    return np.exp(x)/np.sum(np.exp(x))\n",
    "\n",
    "def softmax_grad(x):\n",
    "    prob = softmax(x)\n",
    "    return np.multiply(prob, (1-prob))\n",
    "    # Reshape the 1-d softmax to 2-d so that np.dot will do the matrix multiplication\n",
    "#     s = softmax.reshape(-1,1)\n",
    "#     return np.diagflat(s) - np.dot(s, s.T)\n",
    "\n",
    "def delta_cross_entropy(y, X):\n",
    "    m = y.shape[0]\n",
    "    grad = softmax(X)\n",
    "#     grad = X\n",
    "    idx = np.where(grad == y*grad)\n",
    "    grad[idx] = grad[idx] - 1\n",
    "    grad = grad/m\n",
    "    return grad\n",
    "\n",
    "# def softmax(X)\n",
    "# y = np.matrix([1,0,2])\n",
    "# X = np.matrix([2,4,1])\n",
    "# print(delta_cross_entropy(y.T,X))\n",
    "# print(softmax(np.array([1,2,3])))\n",
    "# img = images[img_idx]\n",
    "# helper.view_classify(img.view(1, 28, 28), ps)"
   ]
  },
  {
   "cell_type": "code",
   "execution_count": 93,
   "metadata": {},
   "outputs": [],
   "source": [
    "def ff(x,W,b):\n",
    "    L = len(W)-1\n",
    "    a = x\n",
    "    for l in range(1,L+1):\n",
    "        z = W[l].T*a+b[l]\n",
    "        a = act(z)\n",
    "    return a\n",
    "\n",
    "def loss(y,yhat):\n",
    "    return y-yhat \n",
    " "
   ]
  },
  {
   "cell_type": "code",
   "execution_count": 96,
   "metadata": {},
   "outputs": [
    {
     "name": "stdout",
     "output_type": "stream",
     "text": [
      "Backpropogation\n",
      "<class 'numpy.matrix'>\n"
     ]
    },
    {
     "ename": "ValueError",
     "evalue": "The truth value of an array with more than one element is ambiguous. Use a.any() or a.all()",
     "output_type": "error",
     "traceback": [
      "\u001b[0;31m---------------------------------------------------------------------------\u001b[0m",
      "\u001b[0;31mValueError\u001b[0m                                Traceback (most recent call last)",
      "\u001b[0;32m<ipython-input-96-3b5319de67dd>\u001b[0m in \u001b[0;36m<module>\u001b[0;34m\u001b[0m\n\u001b[1;32m     77\u001b[0m         \u001b[0mdb\u001b[0m\u001b[0;34m[\u001b[0m\u001b[0mlayer\u001b[0m\u001b[0;34m]\u001b[0m \u001b[0;34m=\u001b[0m \u001b[0mdelta\u001b[0m\u001b[0;34m[\u001b[0m\u001b[0mlayer\u001b[0m\u001b[0;34m]\u001b[0m\u001b[0;34m.\u001b[0m\u001b[0mcopy\u001b[0m\u001b[0;34m(\u001b[0m\u001b[0;34m)\u001b[0m\u001b[0;34m\u001b[0m\u001b[0;34m\u001b[0m\u001b[0m\n\u001b[1;32m     78\u001b[0m         \u001b[0mdW\u001b[0m\u001b[0;34m[\u001b[0m\u001b[0mlayer\u001b[0m\u001b[0;34m]\u001b[0m \u001b[0;34m=\u001b[0m \u001b[0ma\u001b[0m\u001b[0;34m[\u001b[0m\u001b[0mlayer\u001b[0m\u001b[0;34m-\u001b[0m\u001b[0;36m1\u001b[0m\u001b[0;34m]\u001b[0m \u001b[0;34m*\u001b[0m \u001b[0mdelta\u001b[0m\u001b[0;34m[\u001b[0m\u001b[0mlayer\u001b[0m\u001b[0;34m]\u001b[0m\u001b[0;34m.\u001b[0m\u001b[0mT\u001b[0m\u001b[0;34m\u001b[0m\u001b[0;34m\u001b[0m\u001b[0m\n\u001b[0;32m---> 79\u001b[0;31m         \u001b[0mdelta\u001b[0m\u001b[0;34m[\u001b[0m\u001b[0mlayer\u001b[0m\u001b[0;34m-\u001b[0m\u001b[0;36m1\u001b[0m\u001b[0;34m]\u001b[0m \u001b[0;34m=\u001b[0m \u001b[0mnp\u001b[0m\u001b[0;34m.\u001b[0m\u001b[0mmultiply\u001b[0m\u001b[0;34m(\u001b[0m\u001b[0mrelu_der\u001b[0m\u001b[0;34m(\u001b[0m\u001b[0mz\u001b[0m\u001b[0;34m[\u001b[0m\u001b[0mlayer\u001b[0m\u001b[0;34m-\u001b[0m\u001b[0;36m1\u001b[0m\u001b[0;34m]\u001b[0m\u001b[0;34m)\u001b[0m\u001b[0;34m,\u001b[0m \u001b[0mW\u001b[0m\u001b[0;34m[\u001b[0m\u001b[0mlayer\u001b[0m\u001b[0;34m]\u001b[0m \u001b[0;34m*\u001b[0m \u001b[0mdelta\u001b[0m\u001b[0;34m[\u001b[0m\u001b[0mlayer\u001b[0m\u001b[0;34m]\u001b[0m\u001b[0;34m)\u001b[0m\u001b[0;34m\u001b[0m\u001b[0;34m\u001b[0m\u001b[0m\n\u001b[0m\u001b[1;32m     80\u001b[0m \u001b[0;34m\u001b[0m\u001b[0m\n\u001b[1;32m     81\u001b[0m         \u001b[0mlayer\u001b[0m\u001b[0;34m=\u001b[0m\u001b[0;36m1\u001b[0m\u001b[0;34m\u001b[0m\u001b[0;34m\u001b[0m\u001b[0m\n",
      "\u001b[0;32m<ipython-input-95-c30ab1886166>\u001b[0m in \u001b[0;36mrelu_der\u001b[0;34m(z)\u001b[0m\n\u001b[1;32m     20\u001b[0m \u001b[0;32mdef\u001b[0m \u001b[0mrelu_der\u001b[0m\u001b[0;34m(\u001b[0m\u001b[0mz\u001b[0m\u001b[0;34m)\u001b[0m\u001b[0;34m:\u001b[0m\u001b[0;34m\u001b[0m\u001b[0;34m\u001b[0m\u001b[0m\n\u001b[1;32m     21\u001b[0m     \u001b[0mprint\u001b[0m\u001b[0;34m(\u001b[0m\u001b[0mtype\u001b[0m\u001b[0;34m(\u001b[0m\u001b[0mz\u001b[0m\u001b[0;34m)\u001b[0m\u001b[0;34m)\u001b[0m\u001b[0;34m\u001b[0m\u001b[0;34m\u001b[0m\u001b[0m\n\u001b[0;32m---> 22\u001b[0;31m     \u001b[0;32mreturn\u001b[0m \u001b[0;36m1\u001b[0m \u001b[0;32mif\u001b[0m \u001b[0mz\u001b[0m\u001b[0;34m>\u001b[0m\u001b[0;36m0\u001b[0m \u001b[0;32melse\u001b[0m \u001b[0;36m0\u001b[0m\u001b[0;34m\u001b[0m\u001b[0;34m\u001b[0m\u001b[0m\n\u001b[0m\u001b[1;32m     23\u001b[0m \u001b[0;34m\u001b[0m\u001b[0m\n\u001b[1;32m     24\u001b[0m \u001b[0;32mdef\u001b[0m \u001b[0msoftmax\u001b[0m\u001b[0;34m(\u001b[0m\u001b[0mx\u001b[0m\u001b[0;34m)\u001b[0m\u001b[0;34m:\u001b[0m\u001b[0;34m\u001b[0m\u001b[0;34m\u001b[0m\u001b[0m\n",
      "\u001b[0;31mValueError\u001b[0m: The truth value of an array with more than one element is ambiguous. Use a.any() or a.all()"
     ]
    }
   ],
   "source": [
    "   \n",
    "# Use mini-batch size 1\n",
    "\n",
    "alpha = 0.01\n",
    "#originally max-iter = 1000\n",
    "max_iter = 2\n",
    "\n",
    "for iter in range(0, max_iter):\n",
    "    loss_this_iter = 0\n",
    "    order = np.random.permutation(M)\n",
    "    for i in range(0,M):\n",
    "        \n",
    "        # Grab the pattern order[i]\n",
    "        \n",
    "        x_this = X[order[i],:].T\n",
    "        y_this = y[order[i],0]\n",
    "        yt = np.matrix([np.zeros(10)]).T\n",
    "#         print(yt.shape, y_this)\n",
    "        yt[y_this] = 1\n",
    "#         print(yt)\n",
    "        # Feed forward step\n",
    "        \n",
    "        a = [x_this]\n",
    "        z = [[]]\n",
    "        delta = [[]]\n",
    "        dW = [[]]\n",
    "        db = [[]]\n",
    "#         for l in range(1,L+1):\n",
    "#             print(\"a-l: \", l-1,\"  actual l: \", l)\n",
    "        layer =1\n",
    "        #First layer\n",
    "        z.append(W[layer].T*a[layer-1]+b[layer])\n",
    "        a.append(relu(z[-1]))\n",
    "        delta.append([]); dW.append([]); db.append([])\n",
    "#         print(\"z shape at end of 1st layer:\", z[-1].shape)        \n",
    "#         print(\"a shape at end of 1st layer:\", a[-1].shape)\n",
    "\n",
    "        layer=2\n",
    "        #Second layer\n",
    "        z.append(W[layer].T*a[layer-1]+b[layer])\n",
    "        a.append(relu(z[-1]))\n",
    "        delta.append([]); dW.append([]); db.append([])\n",
    "        \n",
    "#         print(\"z shape at end of 2nd layer:\", z[-1].shape)        \n",
    "#         print(\"a shape at end of 2nd layer:\", a[-1].shape)\n",
    "\n",
    "        layer=3\n",
    "        #third layer\n",
    "        z.append(W[layer].T*a[layer-1]+b[layer])\n",
    "        a.append(softmax(z[-1]))\n",
    "        delta.append([]); dW.append([]); db.append([])\n",
    "        \n",
    "#         print(\"z shape at end of 3rd layer:\", z[-1].shape)\n",
    "#         print(a[-1].sum())\n",
    "        \n",
    "        loss_this_pattern = np.sum(np.subtract(yt, a[3]))\n",
    "        loss_this_iter = loss_this_iter + loss_this_pattern\n",
    "            \n",
    "#         # Backprop step\n",
    "\n",
    "#         delta[layer] = np.subtract(yt, a[3])\n",
    "#         print(type(yt))\n",
    "   \n",
    "#         print(\"-----------------------------------------------------------\")\n",
    "        print(\"Backpropogation\")\n",
    "        delta[layer] = delta_cross_entropy(a[-1], yt.T)\n",
    "#         print(delta[layer])\n",
    "        db[layer] = delta[layer].copy()\n",
    "        dW[layer] = a[layer-1] * delta[layer]\n",
    "#         print(dW[layer].shape)\n",
    "        delta[layer-1] = np.multiply(softmax_grad(z[layer-1]), W[layer] * delta[layer].T)\n",
    "#         print(delta[layer].shape)\n",
    "#         print(delta[layer-1].shape)\n",
    "#         print(dW[layer].shape)\n",
    "#         print(softmax_grad(z[layer-1]).shape)\n",
    "        \n",
    "        layer=2\n",
    "        db[layer] = delta[layer].copy()\n",
    "        dW[layer] = a[layer-1] * delta[layer].T\n",
    "        delta[layer-1] = np.multiply(relu_der(z[layer-1]), W[layer] * delta[layer])\n",
    "        \n",
    "        layer=1\n",
    "        db[layer] = delta[layer].copy()\n",
    "        dW[layer] = a[layer-1] * delta[layer].T\n",
    "        delta[layer-1] = np.multiply(relu_der(z[layer-1]), W[layer] * delta[layer])\n",
    "        \n",
    "#         for l in range(L,0,-1):\n",
    "#             print(\"REverse: a -> l: \",l-1, \" actual l: \", l)\n",
    "#             db[l] = delta[l].copy()\n",
    "#             dW[l] = a[l-1] * delta[l].T\n",
    "#             if l > 1:\n",
    "#                 delta[l-1] = np.multiply(actder(z[l-1]), W[l] * delta[l])\n",
    "         #LAYER 3\n",
    "        \n",
    "         \n",
    "                \n",
    "#                  db[l] = delta[l].copy()\n",
    "#             dW[l] = a[l-1] * delta[l].T\n",
    "#             if l > 1:\n",
    "#                 delta[l-1] = np.multiply(actder(z[l-1]), W[l] * delta[l])\n",
    "                \n",
    "#                  db[l] = delta[l].copy()\n",
    "#             dW[l] = a[l-1] * delta[l].T\n",
    "#             if l > 1:\n",
    "#                 delta[l-1] = np.multiply(actder(z[l-1]), W[l] * delta[l])\n",
    "                \n",
    "                \n",
    "#         # Check delta calculation\n",
    "        \n",
    "#         if False:\n",
    "#             print('Target: %f' % y_this)\n",
    "#             print('y_hat: %f' % a[L][0,0])\n",
    "#             print(db)\n",
    "#             y_pred = ff(x_this,W,b)\n",
    "#             diff = 1e-3\n",
    "#             W[1][10,0] = W[1][10,0] + diff\n",
    "#             y_pred_db = ff(x_this,W,b)\n",
    "#             L1 = loss(y_this,y_pred)\n",
    "#             L2 = loss(y_this,y_pred_db)\n",
    "#             db_finite_difference = (L2-L1)/diff\n",
    "#             print('Original out %f, perturbed out %f' %\n",
    "#                  (y_pred[0,0], y_pred_db[0,0]))\n",
    "#             print('Theoretical dW %f, calculated db %f' %\n",
    "#                   (dW[1][10,0], db_finite_difference[0,0]))\n",
    "        \n",
    "#         for l in range(1,L+1):            \n",
    "#             W[l] = W[l] - alpha * dW[l]\n",
    "#             b[l] = b[l] - alpha * db[l]\n",
    "        \n",
    "    print('Iteration %d loss %f' % (iter, loss_this_iter))"
   ]
  },
  {
   "cell_type": "code",
   "execution_count": null,
   "metadata": {},
   "outputs": [],
   "source": []
  },
  {
   "cell_type": "code",
   "execution_count": null,
   "metadata": {},
   "outputs": [],
   "source": []
  }
 ],
 "metadata": {
  "kernelspec": {
   "display_name": "Python 3",
   "language": "python",
   "name": "python3"
  },
  "language_info": {
   "codemirror_mode": {
    "name": "ipython",
    "version": 3
   },
   "file_extension": ".py",
   "mimetype": "text/x-python",
   "name": "python",
   "nbconvert_exporter": "python",
   "pygments_lexer": "ipython3",
   "version": "3.7.4"
  }
 },
 "nbformat": 4,
 "nbformat_minor": 2
}
