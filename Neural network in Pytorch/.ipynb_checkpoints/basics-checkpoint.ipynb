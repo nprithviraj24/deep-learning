{
 "cells": [
  {
   "cell_type": "code",
   "execution_count": 1,
   "metadata": {},
   "outputs": [
    {
     "name": "stdout",
     "output_type": "stream",
     "text": [
      "tensor([[1.1692e-06, 4.5607e-41, 1.1692e-06],\n",
      "        [4.5607e-41, 2.5740e-12, 3.1436e-12],\n",
      "        [2.6056e-12, 1.4588e-19, 3.1458e-12],\n",
      "        [7.9309e+34, 6.0022e+31, 4.2964e+24],\n",
      "        [7.3162e+28, 8.1589e-33, 1.3563e-19]])\n",
      "tensor([[0.9971, 0.4728, 0.5437],\n",
      "        [0.2149, 0.7171, 0.9006],\n",
      "        [0.5954, 0.4188, 0.0893],\n",
      "        [0.2838, 0.8479, 0.2668],\n",
      "        [0.9231, 0.7205, 0.0573]])\n",
      "tensor([[0, 0, 0],\n",
      "        [0, 0, 0],\n",
      "        [0, 0, 0],\n",
      "        [0, 0, 0],\n",
      "        [0, 0, 0]])\n",
      "tensor([5.5000, 3.0000])\n",
      "tensor([[1, 1, 1],\n",
      "        [1, 1, 1],\n",
      "        [1, 1, 1],\n",
      "        [1, 1, 1],\n",
      "        [1, 1, 1]])\n",
      "tensor([[1, 1, 1],\n",
      "        [1, 1, 1],\n",
      "        [1, 1, 1],\n",
      "        [1, 1, 1],\n",
      "        [1, 1, 1]])\n",
      "tensor([[-0.2906,  0.6646,  0.4716],\n",
      "        [ 0.4965, -0.8660,  0.0290],\n",
      "        [-0.9728, -0.0876, -1.8439],\n",
      "        [-0.9789,  0.7403,  2.1138],\n",
      "        [ 1.4760, -0.3101, -1.7626]])\n",
      "torch.Size([5, 3])\n"
     ]
    }
   ],
   "source": [
    "import torch\n",
    "import numpy as np\n",
    "\n",
    "x = torch.empty(5, 3)\n",
    "print(x)\n",
    "\n",
    "x = torch.rand(5, 3)\n",
    "print(x)\n",
    "\n",
    "x = torch.zeros(5, 3, dtype=torch.long)\n",
    "print(x)\n",
    "\n",
    "x = torch.tensor([5.5, 3])\n",
    "print(x)\n",
    "\n",
    "x = torch.ones(5, 3, dtype=torch.long)      # new_* methods take in sizes\n",
    "print(x)\n",
    "\n",
    "x = x.new_ones(5, 3)      # new_* methods take in sizes\n",
    "print(x)\n",
    "\n",
    "x = torch.randn_like(x, dtype=torch.float)    # override dtype!\n",
    "print(x)  \n",
    "\n",
    "print(x.size())"
   ]
  },
  {
   "cell_type": "code",
   "execution_count": null,
   "metadata": {},
   "outputs": [],
   "source": [
    "y = torch.rand(5, 3)\n",
    "print(x + y)\n",
    "\n",
    "print(torch.add(x, y))\n",
    "\n",
    "result = torch.empty(5, 3)\n",
    "torch.add(x, y, out=result)\n",
    "print(result)\n",
    "\n",
    "\n",
    "result1 = torch.empty(5, 3)\n",
    "torch.add(x, y, out=result)\n",
    "print('result1', result1)\n",
    "\n",
    "result1 = torch.add(x, y)\n",
    "print('result1', result1)\n",
    "\n",
    "# to resize/reshape tensor\n",
    "x = torch.randn(4, 4)\n",
    "y = x.view(16)\n",
    "z = x.view(-1, 8)  # the size -1 is inferred from other dimensions\n",
    "print(x.size(), y.size(), z.size())"
   ]
  },
  {
   "cell_type": "markdown",
   "metadata": {},
   "source": [
    "#### Numpy access the same memory values, and operations are applied on it ass well."
   ]
  },
  {
   "cell_type": "code",
   "execution_count": 2,
   "metadata": {},
   "outputs": [
    {
     "name": "stdout",
     "output_type": "stream",
     "text": [
      "tensor([[ 0.0302,  0.7689,  1.2014],\n",
      "        [ 0.5839, -0.7420,  0.6718],\n",
      "        [-0.6565,  0.1456, -1.4443],\n",
      "        [-0.8874,  1.2410,  2.2067],\n",
      "        [ 2.2028,  0.1898, -1.5193]])\n",
      "tensor([[ 0.0302,  0.7689,  1.2014],\n",
      "        [ 0.5839, -0.7420,  0.6718],\n",
      "        [-0.6565,  0.1456, -1.4443],\n",
      "        [-0.8874,  1.2410,  2.2067],\n",
      "        [ 2.2028,  0.1898, -1.5193]])\n",
      "tensor([[ 0.0302,  0.7689,  1.2014],\n",
      "        [ 0.5839, -0.7420,  0.6718],\n",
      "        [-0.6565,  0.1456, -1.4443],\n",
      "        [-0.8874,  1.2410,  2.2067],\n",
      "        [ 2.2028,  0.1898, -1.5193]])\n",
      "result1 tensor([[-9.4959e+23,  3.0967e-41,  1.2014e+00],\n",
      "        [ 5.8393e-01, -7.4201e-01,  6.7181e-01],\n",
      "        [-6.5655e-01,  1.4556e-01, -1.4443e+00],\n",
      "        [-8.8738e-01,  1.2410e+00,  2.2067e+00],\n",
      "        [ 2.2028e+00,  1.8979e-01, -1.5193e+00]])\n",
      "result1 tensor([[ 0.0302,  0.7689,  1.2014],\n",
      "        [ 0.5839, -0.7420,  0.6718],\n",
      "        [-0.6565,  0.1456, -1.4443],\n",
      "        [-0.8874,  1.2410,  2.2067],\n",
      "        [ 2.2028,  0.1898, -1.5193]])\n",
      "torch.Size([4, 4]) torch.Size([16]) torch.Size([2, 8])\n",
      "x_numpy [[ 1.5795324e+00  1.7637405e+00 -7.9816615e-04 -1.0131506e+00]\n",
      " [-1.1154815e-01 -1.2555419e+00 -8.4735650e-01  6.3588363e-01]\n",
      " [-1.2443924e+00 -1.0203867e+00  9.0880525e-01 -6.9725461e-02]\n",
      " [-7.5600016e-01 -5.2397227e-01 -1.8605979e-02 -8.9037091e-02]]\n",
      "tensor([[ 2.5795,  2.7637,  0.9992, -0.0132],\n",
      "        [ 0.8885, -0.2555,  0.1526,  1.6359],\n",
      "        [-0.2444, -0.0204,  1.9088,  0.9303],\n",
      "        [ 0.2440,  0.4760,  0.9814,  0.9110]])\n",
      "[[ 2.5795324   2.7637405   0.99920183 -0.01315057]\n",
      " [ 0.8884519  -0.25554192  0.1526435   1.6358836 ]\n",
      " [-0.2443924  -0.0203867   1.9088053   0.93027455]\n",
      " [ 0.24399984  0.47602773  0.981394    0.91096294]]\n"
     ]
    }
   ],
   "source": [
    "x_np = x.numpy()\n",
    "print('x_numpy', x_np)\n",
    "\n",
    "x.add_(1)\n",
    "print(x)\n",
    "print(x_np)"
   ]
  },
  {
   "cell_type": "code",
   "execution_count": 3,
   "metadata": {},
   "outputs": [
    {
     "name": "stdout",
     "output_type": "stream",
     "text": [
      "[2. 2. 2. 2. 2.]\n",
      "tensor([2., 2., 2., 2., 2.], dtype=torch.float64)\n"
     ]
    }
   ],
   "source": [
    "#Converting NumPy Array to Torch Tensor\n",
    "\n",
    "a = np.ones(5)\n",
    "b = torch.from_numpy(a)\n",
    "np.add(a, 1, out=a)\n",
    "print(a)\n",
    "print(b)"
   ]
  },
  {
   "cell_type": "code",
   "execution_count": 4,
   "metadata": {},
   "outputs": [
    {
     "name": "stdout",
     "output_type": "stream",
     "text": [
      "device: cuda\n",
      "tensor([[3.5795, 3.7637, 1.9992, 0.9868],\n",
      "        [1.8885, 0.7445, 1.1526, 2.6359],\n",
      "        [0.7556, 0.9796, 2.9088, 1.9303],\n",
      "        [1.2440, 1.4760, 1.9814, 1.9110]], device='cuda:0')\n",
      "tensor([[3.5795, 3.7637, 1.9992, 0.9868],\n",
      "        [1.8885, 0.7445, 1.1526, 2.6359],\n",
      "        [0.7556, 0.9796, 2.9088, 1.9303],\n",
      "        [1.2440, 1.4760, 1.9814, 1.9110]], dtype=torch.float64)\n"
     ]
    }
   ],
   "source": [
    "# let us run this cell only if CUDA is available\n",
    "# We will use ``torch.device`` objects to move tensors in and out of GPU\n",
    "if torch.cuda.is_available():\n",
    "    device = torch.device(\"cuda\")          # a CUDA device object\n",
    "    y = torch.ones_like(x, device=device)  # directly create a tensor on GPU\n",
    "    x = x.to(device)                       # or just use strings ``.to(\"cuda\")``\n",
    "    z = x + y\n",
    "    print('device:', device)\n",
    "    print(z)\n",
    "    print(z.to(\"cpu\", torch.double))       # ``.to`` can also change dtype together!\n",
    "    "
   ]
  },
  {
   "cell_type": "code",
   "execution_count": null,
   "metadata": {},
   "outputs": [],
   "source": []
  }
 ],
 "metadata": {
  "kernelspec": {
   "display_name": "Python 3",
   "language": "python",
   "name": "python3"
  },
  "language_info": {
   "codemirror_mode": {
    "name": "ipython",
    "version": 3
   },
   "file_extension": ".py",
   "mimetype": "text/x-python",
   "name": "python",
   "nbconvert_exporter": "python",
   "pygments_lexer": "ipython3",
   "version": "3.7.4"
  }
 },
 "nbformat": 4,
 "nbformat_minor": 2
}
